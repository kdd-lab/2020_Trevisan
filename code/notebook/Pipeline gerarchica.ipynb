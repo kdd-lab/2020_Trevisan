{
 "cells": [
  {
   "cell_type": "markdown",
   "metadata": {},
   "source": [
    "### Pipeline gerarchica\n",
    "\n",
    "**PIPELINE - APPROCCIO GERARCHICO**\n",
    "\n",
    "Versione inizialmente semplice che si estende con la posibilità cambiare parametri aggiuntivi mantenendo le funzionalità di base\n",
    "\n",
    "Contributo algoritmico per semplificare il grafo trovando strutture ripetitive-ricorsive al suo interno."
   ]
  },
  {
   "cell_type": "markdown",
   "metadata": {},
   "source": [
    "**PROCEDURA**\n",
    "\n",
    "```\n",
    "Identificare sottografo SG (figure come la prima iterazione di un frattale)\n",
    "Collassare il SG in un solo nodo\n",
    "Aggiornare il peso degli archi\n",
    "Riapplicare il procedimento al grafo risultante (nuovo livello)\n",
    "```\n",
    "\n",
    "- Il pattern d'inizio `SG` sì puo anche lasciare libero, non c'è bisogno di fissarlo (stelle, triangoli, etc.)\n",
    "- Identificare un'istanza alla volta nel grafo di partenza, operazione greedy\n",
    "- Potrebbero esserci più match (2 triangoli con un vertice in comune). Prendere decisioni arbitriarie\n",
    "- Archi di **pesi** diversi potrebbero non matchare\n",
    "- **Livelli**, ricordare quando il nodo è stato generato e quando si fa il match andare a vedere di generazione. Eventualmente imponendo che i nodi siano allo stesso livello (struttura frattale)\n",
    "- Tenere traccia del tipo di nodi:\n",
    "\n",
    "    **nodi pieni** → da espandere per avere gli ammassamenti. Espandendo i nodi pieni si ottiene la struttura frattale pulita oppure un'approssimazione di strutture che per quel pattern in input danno qualcosa che genera una struttura pseudo-ricorsiva\n",
    "\n",
    "    **nodi vuoti** che si possono eliminare - pruning"
   ]
  },
  {
   "cell_type": "code",
   "execution_count": 1,
   "metadata": {},
   "outputs": [],
   "source": [
    "import networkx as nx\n",
    "import itertools"
   ]
  },
  {
   "cell_type": "code",
   "execution_count": 2,
   "metadata": {},
   "outputs": [],
   "source": [
    "%load_ext pycodestyle_magic\n",
    "# %%pycodestyle"
   ]
  },
  {
   "cell_type": "code",
   "execution_count": 3,
   "metadata": {},
   "outputs": [],
   "source": [
    "# grafo test\n",
    "\n",
    "G = nx.Graph()\n",
    "\n",
    "G.add_nodes_from([1, 2, 3, 4, 5, 6])\n",
    "G.add_edges_from([(1, 2), (2, 3), (2, 4), (2, 5), (4, 5), (3, 6), (4, 6), (5, 6)])"
   ]
  },
  {
   "cell_type": "markdown",
   "metadata": {},
   "source": [
    "livello 1"
   ]
  },
  {
   "cell_type": "code",
   "execution_count": 8,
   "metadata": {},
   "outputs": [
    {
     "data": {
      "image/png": "[encoded data removed]",
      "text/plain": [
       "<Figure size 432x288 with 1 Axes>"
      ]
     },
     "metadata": {},
     "output_type": "display_data"
    }
   ],
   "source": [
    "nx.draw(G)"
   ]
  },
  {
   "cell_type": "code",
   "execution_count": 4,
   "metadata": {},
   "outputs": [
    {
     "name": "stdout",
     "output_type": "stream",
     "text": [
      "1 {2: {}}\n",
      "2 {1: {}, 3: {}, 4: {}, 5: {}}\n",
      "3 {2: {}, 6: {}}\n",
      "4 {2: {}, 5: {}, 6: {}}\n",
      "5 {2: {}, 4: {}, 6: {}}\n",
      "6 {3: {}, 4: {}, 5: {}}\n"
     ]
    }
   ],
   "source": [
    "# liste d'adiacenza\n",
    "\n",
    "for nbr, datadict in G.adj.items():\n",
    "    print(nbr, datadict)"
   ]
  },
  {
   "cell_type": "markdown",
   "metadata": {},
   "source": [
    "#### Identificare sottografo SG, triangolo"
   ]
  },
  {
   "cell_type": "code",
   "execution_count": 5,
   "metadata": {},
   "outputs": [
    {
     "data": {
      "text/plain": [
       "{1: 0, 2: 1, 3: 0, 4: 2, 5: 2, 6: 1}"
      ]
     },
     "execution_count": 5,
     "metadata": {},
     "output_type": "execute_result"
    }
   ],
   "source": [
    "nx.triangles(G)"
   ]
  },
  {
   "cell_type": "code",
   "execution_count": 6,
   "metadata": {},
   "outputs": [
    {
     "data": {
      "text/plain": [
       "2.0"
      ]
     },
     "execution_count": 6,
     "metadata": {},
     "output_type": "execute_result"
    }
   ],
   "source": [
    "number_of_triangles = sum(nx.triangles(G).values()) / 3\n",
    "number_of_triangles"
   ]
  },
  {
   "cell_type": "markdown",
   "metadata": {},
   "source": [
    "#### 2 varianti della funzione identifica, funzionano solo con i triangoli al momento"
   ]
  },
  {
   "cell_type": "code",
   "execution_count": 7,
   "metadata": {},
   "outputs": [
    {
     "data": {
      "text/plain": [
       "[[2, 4, 5], [4, 5, 6]]"
      ]
     },
     "execution_count": 7,
     "metadata": {},
     "output_type": "execute_result"
    }
   ],
   "source": [
    "def identify(G):\n",
    "    tri = filter(lambda x: len(x) == 3, nx.enumerate_all_cliques(G))\n",
    "    tri_subraphs = [G.subgraph(nodes) for nodes in tri]\n",
    "    lis = []\n",
    "    for graph in tri_subraphs:\n",
    "        lis.append(list(graph.nodes()))\n",
    "    return lis\n",
    "\n",
    "\n",
    "identify(G)"
   ]
  },
  {
   "cell_type": "code",
   "execution_count": 8,
   "metadata": {},
   "outputs": [
    {
     "data": {
      "text/plain": [
       "[(2, 4, 5), (4, 5, 6)]"
      ]
     },
     "execution_count": 8,
     "metadata": {},
     "output_type": "execute_result"
    }
   ],
   "source": [
    "def identifica(G):\n",
    "    cliques = nx.find_cliques(G)\n",
    "    cliques_g = list(sum([list(itertools.combinations(set(clq), 3))\n",
    "                          for clq in cliques if len(clq) >= 3], []))\n",
    "    return cliques_g\n",
    "\n",
    "\n",
    "identifica(G)"
   ]
  },
  {
   "cell_type": "markdown",
   "metadata": {},
   "source": [
    "#### Collassare il SG in un solo nodo"
   ]
  },
  {
   "cell_type": "code",
   "execution_count": 10,
   "metadata": {
    "scrolled": true
   },
   "outputs": [],
   "source": [
    "def contract(G):\n",
    "    ris = identify(G)\n",
    "    a, b, c = ris[0][0], ris[0][1], ris[0][2]\n",
    "    M = nx.contracted_nodes(G, a, b)\n",
    "    MM = nx.contracted_nodes(M, a, c)\n",
    "    print(MM.nodes())\n",
    "    nx.draw(MM)\n",
    "    return MM"
   ]
  },
  {
   "cell_type": "markdown",
   "metadata": {},
   "source": [
    "livello 2"
   ]
  },
  {
   "cell_type": "code",
   "execution_count": 11,
   "metadata": {},
   "outputs": [
    {
     "name": "stdout",
     "output_type": "stream",
     "text": [
      "[1, 2, 3, 6]\n"
     ]
    },
    {
     "data": {
      "image/png": "[encoded data removed]",
      "text/plain": [
       "<Figure size 432x288 with 1 Axes>"
      ]
     },
     "metadata": {},
     "output_type": "display_data"
    }
   ],
   "source": [
    "G1 = contract(G)"
   ]
  },
  {
   "cell_type": "markdown",
   "metadata": {},
   "source": [
    "livello 3"
   ]
  },
  {
   "cell_type": "code",
   "execution_count": 12,
   "metadata": {},
   "outputs": [
    {
     "name": "stdout",
     "output_type": "stream",
     "text": [
      "[1, 2]\n"
     ]
    },
    {
     "data": {
      "image/png": "[encoded data removed]",
      "text/plain": [
       "<Figure size 432x288 with 1 Axes>"
      ]
     },
     "metadata": {},
     "output_type": "display_data"
    }
   ],
   "source": [
    "G2 = contract(G1)"
   ]
  }
 ],
 "metadata": {
  "kernelspec": {
   "display_name": "tesi",
   "language": "python",
   "name": "tesi"
  },
  "language_info": {
   "codemirror_mode": {
    "name": "ipython",
    "version": 3
   },
   "file_extension": ".py",
   "mimetype": "text/x-python",
   "name": "python",
   "nbconvert_exporter": "python",
   "pygments_lexer": "ipython3",
   "version": "3.8.3"
  }
 },
 "nbformat": 4,
 "nbformat_minor": 4
}

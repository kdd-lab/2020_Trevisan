{
 "cells": [
  {
   "cell_type": "markdown",
   "metadata": {},
   "source": [
    "### Indice\n",
    "\n",
    "- [Grafo](#Grafo)\n",
    "- [Motif](#Motif)\n",
    "- [Rinomina](#Rinomina)\n",
    "- [Identify](#Identify)\n",
    "- [Zippa](#Zippa)\n",
    "- [Pipeline gerarchica multicompressione](#Pipeline-gerarchica-multicompressione)\n",
    "- [Procedura frattale](#Procedura-frattale)\n",
    "- [Memorizza merge](#Memorizza-merge)\n",
    "- [Indici](#Indici)"
   ]
  },
  {
   "cell_type": "code",
   "execution_count": 1,
   "metadata": {
    "extensions": {
     "jupyter_dashboards": {
      "version": 1,
      "views": {
       "grid_default": {},
       "report_default": {}
      }
     }
    }
   },
   "outputs": [],
   "source": [
    "import collections\n",
    "import networkx as nx\n",
    "import matplotlib.pyplot as plt\n",
    "from grandiso import find_motifs\n",
    "from operator import itemgetter\n",
    "from collections import defaultdict"
   ]
  },
  {
   "cell_type": "code",
   "execution_count": 2,
   "metadata": {
    "extensions": {
     "jupyter_dashboards": {
      "version": 1,
      "views": {
       "grid_default": {},
       "report_default": {}
      }
     }
    }
   },
   "outputs": [],
   "source": [
    "%load_ext pycodestyle_magic\n",
    "# %%pycodestyle"
   ]
  },
  {
   "cell_type": "markdown",
   "metadata": {},
   "source": [
    "### Grafo \n",
    "[torna su](#Indice)\n",
    "\n",
    "Grafo test di base `G`"
   ]
  },
  {
   "cell_type": "code",
   "execution_count": 20,
   "metadata": {
    "extensions": {
     "jupyter_dashboards": {
      "version": 1,
      "views": {
       "grid_default": {},
       "report_default": {}
      }
     }
    }
   },
   "outputs": [],
   "source": [
    "# grafo test di base G\n",
    "\n",
    "G0 = nx.Graph()\n",
    "G0.add_edges_from([(7, 1), (8, 1), (7, 8), (1, 2), (2, 3), (2, 4), (2, 5), (4, 5), (3, 6), (4, 6), (5, 6)])\n",
    "# nx.draw(G0)"
   ]
  },
  {
   "cell_type": "code",
   "execution_count": 42,
   "metadata": {},
   "outputs": [
    {
     "data": {
      "image/png": "[encoded data removed]",
      "text/plain": [
       "<Figure size 432x288 with 1 Axes>"
      ]
     },
     "metadata": {},
     "output_type": "display_data"
    }
   ],
   "source": [
    "G0 = nx.Graph()\n",
    "G0.add_edges_from([(1, 2), (2, 3), (1, 3),(1,4), (3, 5), (5,6), (6,7),(5,7), (7,9), (8,9),(9, 10),(8,10),(2,8)])\n",
    "nx.draw(G0)"
   ]
  },
  {
   "cell_type": "markdown",
   "metadata": {
    "extensions": {
     "jupyter_dashboards": {
      "version": 1,
      "views": {
       "grid_default": {},
       "report_default": {}
      }
     }
    }
   },
   "source": [
    "### Motif \n",
    "[torna su](#Indice)\n",
    "\n",
    "Sottografo `motif`"
   ]
  },
  {
   "cell_type": "code",
   "execution_count": 43,
   "metadata": {
    "extensions": {
     "jupyter_dashboards": {
      "version": 1,
      "views": {
       "grid_default": {},
       "report_default": {}
      }
     }
    }
   },
   "outputs": [],
   "source": [
    "# Sottografo motif da trovare nel grafo G: TRIANGOLO\n",
    "\n",
    "motif = nx.Graph()\n",
    "motif.add_edges_from([(1, 2), (2, 3), (3, 1)])\n",
    "# nx.draw(motif)"
   ]
  },
  {
   "cell_type": "code",
   "execution_count": 6,
   "metadata": {},
   "outputs": [],
   "source": [
    "#m1 = nx.Graph()\n",
    "#m1.add_edges_from([(1, 2), (2, 3), (3, 1)])\n",
    "# nx.draw(motif)"
   ]
  },
  {
   "cell_type": "markdown",
   "metadata": {},
   "source": [
    "### Rinomina \n",
    "[torna su](#Indice)\n",
    "\n",
    "Rinomina nodi del grafo `G` in tuple `(livello, nodo)`"
   ]
  },
  {
   "cell_type": "code",
   "execution_count": 7,
   "metadata": {},
   "outputs": [],
   "source": [
    "def rinomina(G):\n",
    "    livello = 0\n",
    "    nodi = list(G.nodes())\n",
    "    lun = len(nodi)\n",
    "    liv_list = [livello for x in range(lun)]\n",
    "    lista_tuple = list(zip(liv_list, nodi))\n",
    "    mapping = dict(zip(nodi, lista_tuple))\n",
    "    G = nx.relabel_nodes(G, mapping)\n",
    "\n",
    "    return G"
   ]
  },
  {
   "cell_type": "markdown",
   "metadata": {},
   "source": [
    "### Identify\n",
    "[torna su](#Indice)\n",
    "\n",
    "Identify `motif` in `G`"
   ]
  },
  {
   "cell_type": "code",
   "execution_count": 8,
   "metadata": {},
   "outputs": [],
   "source": [
    "def identify(motif, G):\n",
    "    lista1 = find_motifs(motif, G)\n",
    "    if lista1 == []:\n",
    "        return lista1\n",
    "    else:\n",
    "        lista2 = [list(d.values()) for d in lista1]\n",
    "        lista3 = list(set(tuple(sorted(s)) for s in lista2))\n",
    "        lista4 = sorted(lista3)\n",
    "        risultato = [list(el) for el in lista4]\n",
    "\n",
    "        return risultato"
   ]
  },
  {
   "cell_type": "markdown",
   "metadata": {},
   "source": [
    "### Zippa\n",
    "[torna su](#Indice)\n",
    "\n",
    "Restituisce il mapping per la compressione"
   ]
  },
  {
   "cell_type": "code",
   "execution_count": 9,
   "metadata": {},
   "outputs": [],
   "source": [
    "def zippa(results, nodes):\n",
    "    # max_liv = max(results[0], key=lambda item:item[0])[0]\n",
    "    max_liv = max(results[0], key=itemgetter(0))[0]\n",
    "    lista_temp = []\n",
    "    tri = []\n",
    "    for x in nodes:\n",
    "        if x in results[0]:\n",
    "            # sostituisci il livello del primo nodo\n",
    "            # (per comodità scelgo il primo) con il MAX+1\n",
    "            x = list(x)\n",
    "            x[0] = max_liv+1\n",
    "            x = tuple(x)\n",
    "            tri.append(x)\n",
    "    if len(tri) == len(results[0]):\n",
    "        for x in nodes:\n",
    "            if x in results[0]:\n",
    "                lista_temp.append(tri[0])\n",
    "            else:\n",
    "                lista_temp.append(x)\n",
    "        mapping = dict(zip(nodes, lista_temp))\n",
    "\n",
    "        return mapping"
   ]
  },
  {
   "cell_type": "markdown",
   "metadata": {},
   "source": [
    "---"
   ]
  },
  {
   "cell_type": "markdown",
   "metadata": {
    "extensions": {
     "jupyter_dashboards": {
      "version": 1,
      "views": {
       "grid_default": {},
       "report_default": {}
      }
     }
    }
   },
   "source": [
    "### Pipeline gerarchica multicompressione\n",
    "[torna su](#Indice)\n",
    "\n",
    "_versione livelli misti, non frattale_\n",
    "\n",
    "Funzione `multicoll`:\n",
    "- Output: Liste di nodi e archi da cui si ricava il grafo risultate\n",
    "- Nelle compressioni multiple il livello è gestito implicitamente"
   ]
  },
  {
   "cell_type": "code",
   "execution_count": 53,
   "metadata": {},
   "outputs": [],
   "source": [
    "G0 = rinomina(G0)"
   ]
  },
  {
   "cell_type": "code",
   "execution_count": null,
   "metadata": {},
   "outputs": [],
   "source": [
    "def funzione(motif, G):\n",
    "    liv = 1\n",
    "    lista = []\n",
    "    while liv < 100:\n",
    "        ris = identify(motif, G)\n",
    "        if ris == []:\n",
    "            break\n",
    "        else:\n",
    "            mapping = zippa(ris, nodi)\n",
    "            # G = rinomina_archi(G)\n",
    "            G = nx.relabel_nodes(G, mapping)\n",
    "            # nx.draw(G)\n",
    "            a = list(G.nodes())\n",
    "            liv += 1\n",
    "            lista.append(a)\n",
    "    return lista\n",
    "\n",
    "G = funzione(motif, G0)"
   ]
  },
  {
   "cell_type": "code",
   "execution_count": 55,
   "metadata": {},
   "outputs": [],
   "source": [
    "def multicoll(G, motif):\n",
    "    liv = 1\n",
    "    n, a = [], []\n",
    "    # nodi G\n",
    "    nodi = list(G.nodes())\n",
    "    nodi.sort(key=lambda x:x[1])\n",
    "    archi = list(G.edges())\n",
    "    n.append(nodi)\n",
    "    a.append(archi)\n",
    "    while liv < 100:\n",
    "        ris = identify(motif, G)\n",
    "        if ris == []:\n",
    "            break\n",
    "        else:\n",
    "            mapping = zippa(ris, nodi)\n",
    "            G = nx.relabel_nodes(G, mapping)\n",
    "            # togli triangolo usato\n",
    "            # la lista ris diminuisce\n",
    "            ris = ris[1:]\n",
    "            # i nodi cambiano, sono il risultato della compressione\n",
    "            nodi = list(G.nodes())\n",
    "            nodi.sort(key=lambda x:x[1])\n",
    "            archi = list(G.edges())\n",
    "            n.append(nodi)\n",
    "            a.append(archi)\n",
    "            liv += 1\n",
    "\n",
    "    tot = list(zip(n, a))\n",
    "    #print(\"tot\", tot, \"\\n\")\n",
    "    tup = ()\n",
    "    lista = []\n",
    "    for x in tot:\n",
    "        max_liv = max(x[0], key=itemgetter(0))[0]\n",
    "        l = len(x[0])\n",
    "        tup = (max_liv, l, x[0], x[1])\n",
    "        lista.append(tup)\n",
    "\n",
    "    d = defaultdict(list)\n",
    "    for name, num, nod, arc in lista:\n",
    "        d[name].append((num, nod, arc))\n",
    "\n",
    "    res = list(zip(d, map(min, d.values())))\n",
    "    \n",
    "\n",
    "    return res\n",
    "\n",
    "res = multicoll(G0, motif)"
   ]
  },
  {
   "cell_type": "code",
   "execution_count": 35,
   "metadata": {},
   "outputs": [
    {
     "data": {
      "text/plain": [
       "[(0,\n",
       "  (10,\n",
       "   [(0, 1),\n",
       "    (0, 2),\n",
       "    (0, 3),\n",
       "    (0, 4),\n",
       "    (0, 5),\n",
       "    (0, 6),\n",
       "    (0, 7),\n",
       "    (0, 8),\n",
       "    (0, 9),\n",
       "    (0, 10)],\n",
       "   [((0, 1), (0, 2)),\n",
       "    ((0, 1), (0, 3)),\n",
       "    ((0, 1), (0, 4)),\n",
       "    ((0, 2), (0, 3)),\n",
       "    ((0, 2), (0, 8)),\n",
       "    ((0, 3), (0, 5)),\n",
       "    ((0, 5), (0, 6)),\n",
       "    ((0, 5), (0, 7)),\n",
       "    ((0, 6), (0, 7)),\n",
       "    ((0, 7), (0, 9)),\n",
       "    ((0, 9), (0, 8)),\n",
       "    ((0, 9), (0, 10)),\n",
       "    ((0, 8), (0, 10))])),\n",
       " (1,\n",
       "  (4,\n",
       "   [(1, 1), (0, 4), (1, 5), (1, 8)],\n",
       "   [((1, 1), (1, 1)),\n",
       "    ((1, 1), (0, 4)),\n",
       "    ((1, 1), (1, 8)),\n",
       "    ((1, 1), (1, 5)),\n",
       "    ((1, 5), (1, 5)),\n",
       "    ((1, 5), (1, 8)),\n",
       "    ((1, 8), (1, 8))])),\n",
       " (2, (2, [(2, 1), (0, 4)], [((2, 1), (2, 1)), ((2, 1), (0, 4))]))]"
      ]
     },
     "execution_count": 35,
     "metadata": {},
     "output_type": "execute_result"
    }
   ],
   "source": [
    "res"
   ]
  },
  {
   "cell_type": "code",
   "execution_count": null,
   "metadata": {},
   "outputs": [],
   "source": []
  },
  {
   "cell_type": "code",
   "execution_count": null,
   "metadata": {},
   "outputs": [],
   "source": []
  },
  {
   "cell_type": "code",
   "execution_count": 27,
   "metadata": {},
   "outputs": [
    {
     "name": "stdout",
     "output_type": "stream",
     "text": [
      "primo ris [[(0, 1), (0, 2), (0, 3)], [(0, 5), (0, 6), (0, 7)], [(0, 8), (0, 9), (0, 10)]] \n",
      "\n",
      "primo ris [[(0, 1), (0, 2), (0, 3)], [(0, 5), (0, 6), (0, 7)], [(0, 8), (0, 9), (0, 10)]] \n",
      "\n",
      "secondo ris [[(0, 1), (0, 2), (0, 3)], [(0, 5), (0, 6), (0, 7)], [(0, 8), (0, 9), (0, 10)]] \n",
      "\n",
      "mapping {(0, 1): (1, 1), (0, 2): (1, 1), (0, 3): (1, 1), (0, 5): (0, 5), (0, 6): (0, 6), (0, 7): (0, 7), (0, 8): (0, 8), (0, 9): (0, 9), (0, 10): (0, 10)} \n",
      "\n",
      "terzo ris [[(0, 5), (0, 6), (0, 7)], [(0, 8), (0, 9), (0, 10)]] \n",
      "\n",
      "nodi unsorted [(1, 1), (0, 5), (0, 6), (0, 7), (0, 9), (0, 8), (0, 10)] \n",
      "\n",
      "nodi sorted [(1, 1), (0, 5), (0, 6), (0, 7), (0, 8), (0, 9), (0, 10)] \n",
      "\n",
      "fine ris [[(0, 5), (0, 6), (0, 7)], [(0, 8), (0, 9), (0, 10)]] nodi [(1, 1), (0, 5), (0, 6), (0, 7), (0, 8), (0, 9), (0, 10)] \n",
      "\n",
      "\n",
      "\n",
      "primo ris [[(0, 5), (0, 6), (0, 7)], [(0, 8), (0, 9), (0, 10)]] \n",
      "\n",
      "secondo ris [[(0, 5), (0, 6), (0, 7)], [(0, 8), (0, 9), (0, 10)]] \n",
      "\n",
      "mapping {(1, 1): (1, 1), (0, 5): (1, 5), (0, 6): (1, 5), (0, 7): (1, 5), (0, 8): (0, 8), (0, 9): (0, 9), (0, 10): (0, 10)} \n",
      "\n",
      "terzo ris [[(0, 8), (0, 9), (0, 10)]] \n",
      "\n",
      "nodi unsorted [(1, 1), (1, 5), (0, 9), (0, 8), (0, 10)] \n",
      "\n",
      "nodi sorted [(1, 1), (1, 5), (0, 8), (0, 9), (0, 10)] \n",
      "\n",
      "fine ris [[(0, 8), (0, 9), (0, 10)]] nodi [(1, 1), (1, 5), (0, 8), (0, 9), (0, 10)] \n",
      "\n",
      "\n",
      "\n",
      "primo ris [[(0, 8), (0, 9), (0, 10)]] \n",
      "\n",
      "secondo ris [[(0, 8), (0, 9), (0, 10)]] \n",
      "\n",
      "mapping {(1, 1): (1, 1), (1, 5): (1, 5), (0, 8): (1, 8), (0, 9): (1, 8), (0, 10): (1, 8)} \n",
      "\n",
      "terzo ris [] \n",
      "\n",
      "nodi unsorted [(1, 1), (1, 5), (1, 8)] \n",
      "\n",
      "nodi sorted [(1, 1), (1, 5), (1, 8)] \n",
      "\n",
      "fine ris [] nodi [(1, 1), (1, 5), (1, 8)] \n",
      "\n",
      "\n",
      "\n",
      "tot [([(0, 1), (0, 2), (0, 3), (0, 5), (0, 6), (0, 7), (0, 8), (0, 9), (0, 10)], [((0, 1), (0, 2)), ((0, 1), (0, 3)), ((0, 2), (0, 3)), ((0, 2), (0, 8)), ((0, 3), (0, 5)), ((0, 5), (0, 6)), ((0, 5), (0, 7)), ((0, 6), (0, 7)), ((0, 7), (0, 9)), ((0, 9), (0, 8)), ((0, 9), (0, 10)), ((0, 8), (0, 10))]), ([(1, 1), (0, 5), (0, 6), (0, 7), (0, 8), (0, 9), (0, 10)], [((1, 1), (1, 1)), ((1, 1), (0, 8)), ((1, 1), (0, 5)), ((0, 5), (0, 6)), ((0, 5), (0, 7)), ((0, 6), (0, 7)), ((0, 7), (0, 9)), ((0, 9), (0, 8)), ((0, 9), (0, 10)), ((0, 8), (0, 10))]), ([(1, 1), (1, 5), (0, 8), (0, 9), (0, 10)], [((1, 1), (1, 1)), ((1, 1), (0, 8)), ((1, 1), (1, 5)), ((1, 5), (1, 5)), ((1, 5), (0, 9)), ((0, 9), (0, 8)), ((0, 9), (0, 10)), ((0, 8), (0, 10))]), ([(1, 1), (1, 5), (1, 8)], [((1, 1), (1, 1)), ((1, 1), (1, 8)), ((1, 1), (1, 5)), ((1, 5), (1, 5)), ((1, 5), (1, 8)), ((1, 8), (1, 8))])] \n",
      "\n"
     ]
    }
   ],
   "source": [
    "def multicoll(G, motif):\n",
    "    n, a = [], []\n",
    "    # nodi G\n",
    "    nodi = list(G.nodes())\n",
    "    nodi.sort(key=lambda x:x[1])\n",
    "    archi = list(G.edges())\n",
    "    n.append(nodi)\n",
    "    a.append(archi)\n",
    "    # chiama identify\n",
    "    ris = identify(motif, G)\n",
    "    print(\"primo ris\", ris, \"\\n\")\n",
    "    while ris != []:\n",
    "        print(\"primo ris\",ris, \"\\n\")\n",
    "        ris = identify(motif, G)\n",
    "        print(\"secondo ris\", ris, \"\\n\")\n",
    "        mapping = zippa(ris, nodi)\n",
    "        print(\"mapping\",mapping, \"\\n\")\n",
    "        G = nx.relabel_nodes(G, mapping)\n",
    "        # togli triangolo usato\n",
    "        # la lista ris diminuisce\n",
    "        ris = ris[1:]\n",
    "        print(\"terzo ris\", ris, \"\\n\")\n",
    "        # i nodi cambiano, sono il risultato della compressione\n",
    "        nodi = list(G.nodes())\n",
    "        print(\"nodi unsorted\", nodi, \"\\n\")\n",
    "        nodi.sort(key=lambda x:x[1])\n",
    "        print(\"nodi sorted\", nodi, \"\\n\")\n",
    "        archi = list(G.edges())\n",
    "        n.append(nodi)\n",
    "        a.append(archi)\n",
    "        print(\"fine ris\",ris, \"nodi\",nodi, \"\\n\\n\\n\")\n",
    "        continue\n",
    "\n",
    "    tot = list(zip(n, a))\n",
    "    print(\"tot\", tot, \"\\n\")\n",
    "    tup = ()\n",
    "    lista = []\n",
    "    for x in tot:\n",
    "        max_liv = max(x[0], key=itemgetter(0))[0]\n",
    "        l = len(x[0])\n",
    "        tup = (max_liv, l, x[0], x[1])\n",
    "        lista.append(tup)\n",
    "\n",
    "    d = defaultdict(list)\n",
    "    for name, num, nod, arc in lista:\n",
    "        d[name].append((num, nod, arc))\n",
    "\n",
    "    res = list(zip(d, map(min, d.values())))\n",
    "    \n",
    "\n",
    "    return res\n",
    "\n",
    "res = multicoll(G0, motif)"
   ]
  },
  {
   "cell_type": "code",
   "execution_count": 13,
   "metadata": {},
   "outputs": [
    {
     "name": "stdout",
     "output_type": "stream",
     "text": [
      "aaaaapppp [[(0, 1), (0, 7), (0, 8)], [(0, 2), (0, 4), (0, 5)], [(0, 4), (0, 5), (0, 6)]]\n",
      "[[(0, 1), (0, 7), (0, 8)], [(0, 2), (0, 4), (0, 5)], [(0, 4), (0, 5), (0, 6)]]\n",
      "{(0, 1): (1, 1), (0, 2): (0, 2), (0, 3): (0, 3), (0, 4): (0, 4), (0, 5): (0, 5), (0, 6): (0, 6), (0, 7): (1, 1), (0, 8): (1, 1)}\n",
      "[[(0, 2), (0, 4), (0, 5)], [(0, 4), (0, 5), (0, 6)]]\n",
      "[[(0, 2), (0, 4), (0, 5)], [(0, 4), (0, 5), (0, 6)]] [(1, 1), (0, 2), (0, 3), (0, 4), (0, 5), (0, 6)]\n",
      "aaaaapppp [[(0, 2), (0, 4), (0, 5)], [(0, 4), (0, 5), (0, 6)]]\n",
      "[[(0, 2), (0, 4), (0, 5)], [(0, 4), (0, 5), (0, 6)]]\n",
      "{(1, 1): (1, 1), (0, 2): (1, 2), (0, 3): (0, 3), (0, 4): (1, 2), (0, 5): (1, 2), (0, 6): (0, 6)}\n",
      "[[(0, 4), (0, 5), (0, 6)]]\n",
      "[[(0, 4), (0, 5), (0, 6)]] [(1, 1), (1, 2), (0, 3), (0, 6)]\n",
      "aaaaapppp [[(0, 4), (0, 5), (0, 6)]]\n",
      "[[(0, 3), (0, 6), (1, 2)]]\n",
      "{(1, 1): (1, 1), (1, 2): (2, 2), (0, 3): (2, 2), (0, 6): (2, 2)}\n",
      "[]\n",
      "[] [(1, 1), (2, 2)]\n"
     ]
    }
   ],
   "source": [
    "res = multicoll(G0, motif)"
   ]
  },
  {
   "cell_type": "code",
   "execution_count": 14,
   "metadata": {},
   "outputs": [
    {
     "data": {
      "text/plain": [
       "[(0,\n",
       "  (8,\n",
       "   [(0, 1), (0, 2), (0, 3), (0, 4), (0, 5), (0, 6), (0, 7), (0, 8)],\n",
       "   [((0, 7), (0, 1)),\n",
       "    ((0, 7), (0, 8)),\n",
       "    ((0, 1), (0, 8)),\n",
       "    ((0, 1), (0, 2)),\n",
       "    ((0, 2), (0, 3)),\n",
       "    ((0, 2), (0, 4)),\n",
       "    ((0, 2), (0, 5)),\n",
       "    ((0, 3), (0, 6)),\n",
       "    ((0, 4), (0, 5)),\n",
       "    ((0, 4), (0, 6)),\n",
       "    ((0, 5), (0, 6))])),\n",
       " (1,\n",
       "  (4,\n",
       "   [(1, 1), (1, 2), (0, 3), (0, 6)],\n",
       "   [((1, 1), (1, 1)),\n",
       "    ((1, 1), (1, 2)),\n",
       "    ((1, 2), (0, 3)),\n",
       "    ((1, 2), (1, 2)),\n",
       "    ((1, 2), (0, 6)),\n",
       "    ((0, 3), (0, 6))])),\n",
       " (2,\n",
       "  (2,\n",
       "   [(1, 1), (2, 2)],\n",
       "   [((1, 1), (1, 1)), ((1, 1), (2, 2)), ((2, 2), (2, 2))]))]"
      ]
     },
     "execution_count": 14,
     "metadata": {},
     "output_type": "execute_result"
    }
   ],
   "source": [
    "res"
   ]
  },
  {
   "cell_type": "code",
   "execution_count": 36,
   "metadata": {},
   "outputs": [
    {
     "name": "stdout",
     "output_type": "stream",
     "text": [
      "Livello:  [0, 1, 2] \n",
      "# nodi:  [10, 4, 2] \n",
      "Nodi:  [[(0, 1), (0, 2), (0, 3), (0, 4), (0, 5), (0, 6), (0, 7), (0, 8), (0, 9), (0, 10)], [(1, 1), (0, 4), (1, 5), (1, 8)], [(2, 1), (0, 4)]] \n",
      "Archi:  [[((0, 1), (0, 2)), ((0, 1), (0, 3)), ((0, 1), (0, 4)), ((0, 2), (0, 3)), ((0, 2), (0, 8)), ((0, 3), (0, 5)), ((0, 5), (0, 6)), ((0, 5), (0, 7)), ((0, 6), (0, 7)), ((0, 7), (0, 9)), ((0, 9), (0, 8)), ((0, 9), (0, 10)), ((0, 8), (0, 10))], [((1, 1), (1, 1)), ((1, 1), (0, 4)), ((1, 1), (1, 8)), ((1, 1), (1, 5)), ((1, 5), (1, 5)), ((1, 5), (1, 8)), ((1, 8), (1, 8))], [((2, 1), (2, 1)), ((2, 1), (0, 4))]] \n",
      "\n",
      "\n"
     ]
    }
   ],
   "source": [
    "#res = multicoll(G0, m1)\n",
    "livello, num_nodi, nodi, archi = [], [], [], []\n",
    "for i in res:\n",
    "    livello.append(i[0])\n",
    "    num_nodi.append(i[1][0])\n",
    "    nodi.append(i[1][1])\n",
    "    archi.append(i[1][2])\n",
    "\n",
    "print(\"Livello: \", livello, \"\\n# nodi: \", num_nodi,\n",
    "      \"\\nNodi: \", nodi, \"\\nArchi: \", archi, \"\\n\\n\")"
   ]
  },
  {
   "cell_type": "code",
   "execution_count": 37,
   "metadata": {},
   "outputs": [
    {
     "name": "stdout",
     "output_type": "stream",
     "text": [
      "[((0, 1), (0, 2)), ((0, 1), (0, 3)), ((0, 1), (0, 4)), ((0, 2), (0, 3)), ((0, 2), (0, 8)), ((0, 3), (0, 5)), ((0, 5), (0, 6)), ((0, 5), (0, 7)), ((0, 6), (0, 7)), ((0, 7), (0, 9)), ((0, 9), (0, 8)), ((0, 9), (0, 10)), ((0, 8), (0, 10))]\n"
     ]
    },
    {
     "data": {
      "image/png": "[encoded data removed]",
      "text/plain": [
       "<Figure size 432x288 with 1 Axes>"
      ]
     },
     "metadata": {},
     "output_type": "display_data"
    },
    {
     "name": "stdout",
     "output_type": "stream",
     "text": [
      "[((1, 1), (1, 1)), ((1, 1), (0, 4)), ((1, 1), (1, 8)), ((1, 1), (1, 5)), ((1, 5), (1, 5)), ((1, 5), (1, 8)), ((1, 8), (1, 8))]\n"
     ]
    },
    {
     "data": {
      "image/png": "[encoded data removed]",
      "text/plain": [
       "<Figure size 432x288 with 1 Axes>"
      ]
     },
     "metadata": {},
     "output_type": "display_data"
    },
    {
     "name": "stdout",
     "output_type": "stream",
     "text": [
      "[((2, 1), (2, 1)), ((2, 1), (0, 4))]\n"
     ]
    },
    {
     "data": {
      "image/png": "[encoded data removed]",
      "text/plain": [
       "<Figure size 432x288 with 1 Axes>"
      ]
     },
     "metadata": {},
     "output_type": "display_data"
    }
   ],
   "source": [
    "for i in archi:\n",
    "    print(i)\n",
    "    GG = nx.Graph()\n",
    "    GG.add_edges_from(i)\n",
    "    plt.clf()\n",
    "    nx.draw(GG)\n",
    "    plt.pause(1)\n",
    "    plt.show()"
   ]
  },
  {
   "cell_type": "markdown",
   "metadata": {},
   "source": [
    "---"
   ]
  },
  {
   "cell_type": "markdown",
   "metadata": {},
   "source": [
    "### Procedura frattale\n",
    "\n",
    "[torna su](#Indice)"
   ]
  },
  {
   "cell_type": "markdown",
   "metadata": {},
   "source": [
    "Comprimi **solo se** il livello è uguale all'interno del motif\n",
    "\n",
    "si potrebbe trovare una legge di multipli per sapere già i nodi comprimibili (?)\n",
    "\n",
    "compressione di strutture di nodi indipendenti\n",
    "\n",
    "all'iterazione successiva comprimo su ciò che è già stato compresso"
   ]
  },
  {
   "cell_type": "code",
   "execution_count": 101,
   "metadata": {},
   "outputs": [],
   "source": [
    "# grafo test di base G\n",
    "\n",
    "G0 = nx.Graph()\n",
    "G0.add_edges_from([(7, 1), (8, 1), (7, 8), (1, 2), (2, 3), (2, 4), (2, 5), (4, 5), (3, 6), (4, 6), (5, 6)])\n",
    "# nx.draw(G0)"
   ]
  },
  {
   "cell_type": "code",
   "execution_count": 102,
   "metadata": {},
   "outputs": [],
   "source": [
    "motif = nx.Graph()\n",
    "motif.add_edges_from([(1, 2), (2, 3), (3, 1)])\n",
    "# nx.draw(motif)"
   ]
  },
  {
   "cell_type": "code",
   "execution_count": 44,
   "metadata": {},
   "outputs": [],
   "source": [
    "G = rinomina(G0)"
   ]
  },
  {
   "cell_type": "code",
   "execution_count": 45,
   "metadata": {},
   "outputs": [],
   "source": [
    "def all_equal(iterator):\n",
    "    iterator = [x[0] for x in iterator]\n",
    "    return len(set(iterator)) <= 1"
   ]
  },
  {
   "cell_type": "code",
   "execution_count": 47,
   "metadata": {},
   "outputs": [],
   "source": [
    "def frattale(G, motif):\n",
    "    liv = 1\n",
    "    n, a = [], []\n",
    "    # nodi G\n",
    "    nodi = list(G.nodes())\n",
    "    nodi.sort(key=lambda x:x[1])\n",
    "    archi = list(G.edges())\n",
    "    n.append(nodi)\n",
    "    a.append(archi)\n",
    "    while liv < 100:\n",
    "        ris = identify(motif, G)\n",
    "        #print(ris[0])\n",
    "        if ris == []:# and all_equal(ris[0]) == True:\n",
    "            break\n",
    "        elif all_equal(ris[0]) == True:\n",
    "            \n",
    "\n",
    "    # chiama identify\n",
    "    #ris = identify(motif, G)\n",
    "    #print(ris)\n",
    "    #while ris != [] and all_equal(ris[0]) == True:\n",
    "    #    ris = identify(motif, G)\n",
    "        #print(ris[0], all_equal(ris[0]))\n",
    "   #     if all_equal(ris[0]) == True:\n",
    "            mapping = zippa(ris, nodi)\n",
    "            G = nx.relabel_nodes(G, mapping)\n",
    "            # togli triangolo usato\n",
    "            # la lista ris diminuisce\n",
    "            ris = ris[1:]\n",
    "            # i nodi cambiano, sono il risultato della compressione\n",
    "            nodi = list(G.nodes())\n",
    "            nodi.sort(key=lambda x:x[1])\n",
    "            archi = list(G.edges())\n",
    "            n.append(nodi)\n",
    "            a.append(archi)\n",
    "            liv += 1\n",
    "            \n",
    "    tot = list(zip(n, a))\n",
    "    tup = ()\n",
    "    lista = []\n",
    "    for x in tot:\n",
    "        max_liv = max(x[0], key=itemgetter(0))[0]\n",
    "        l = len(x[0])\n",
    "        tup = (max_liv, l, x[0], x[1])\n",
    "        lista.append(tup)\n",
    "\n",
    "    d = defaultdict(list)\n",
    "    for name, num, nod, arc in lista:\n",
    "        d[name].append((num, nod, arc))\n",
    "            \n",
    "    res = list(zip(d, map(min, d.values())))\n",
    "    \n",
    "    return res\n",
    "\n",
    "\n",
    "risultato = frattale(G, motif)"
   ]
  },
  {
   "cell_type": "code",
   "execution_count": 48,
   "metadata": {},
   "outputs": [
    {
     "data": {
      "text/plain": [
       "[(0,\n",
       "  (10,\n",
       "   [(0, 1),\n",
       "    (0, 2),\n",
       "    (0, 3),\n",
       "    (0, 4),\n",
       "    (0, 5),\n",
       "    (0, 6),\n",
       "    (0, 7),\n",
       "    (0, 8),\n",
       "    (0, 9),\n",
       "    (0, 10)],\n",
       "   [((0, 1), (0, 2)),\n",
       "    ((0, 1), (0, 3)),\n",
       "    ((0, 1), (0, 4)),\n",
       "    ((0, 2), (0, 3)),\n",
       "    ((0, 2), (0, 8)),\n",
       "    ((0, 3), (0, 5)),\n",
       "    ((0, 5), (0, 6)),\n",
       "    ((0, 5), (0, 7)),\n",
       "    ((0, 6), (0, 7)),\n",
       "    ((0, 7), (0, 9)),\n",
       "    ((0, 9), (0, 8)),\n",
       "    ((0, 9), (0, 10)),\n",
       "    ((0, 8), (0, 10))])),\n",
       " (1,\n",
       "  (4,\n",
       "   [(1, 1), (0, 4), (1, 5), (1, 8)],\n",
       "   [((1, 1), (1, 1)),\n",
       "    ((1, 1), (0, 4)),\n",
       "    ((1, 1), (1, 8)),\n",
       "    ((1, 1), (1, 5)),\n",
       "    ((1, 5), (1, 5)),\n",
       "    ((1, 5), (1, 8)),\n",
       "    ((1, 8), (1, 8))])),\n",
       " (2, (2, [(2, 1), (0, 4)], [((2, 1), (2, 1)), ((2, 1), (0, 4))]))]"
      ]
     },
     "execution_count": 48,
     "metadata": {},
     "output_type": "execute_result"
    }
   ],
   "source": [
    "risultato\n"
   ]
  },
  {
   "cell_type": "code",
   "execution_count": null,
   "metadata": {},
   "outputs": [],
   "source": []
  },
  {
   "cell_type": "code",
   "execution_count": null,
   "metadata": {},
   "outputs": [],
   "source": [
    "def multicoll(G, motif):\n",
    "    liv = 1\n",
    "    n, a = [], []\n",
    "    # nodi G\n",
    "    nodi = list(G.nodes())\n",
    "    nodi.sort(key=lambda x:x[1])\n",
    "    archi = list(G.edges())\n",
    "    n.append(nodi)\n",
    "    a.append(archi)\n",
    "    while liv < 100:\n",
    "        ris = identify(motif, G)\n",
    "        if ris == []:\n",
    "            break\n",
    "        else:\n",
    "            mapping = zippa(ris, nodi)\n",
    "            G = nx.relabel_nodes(G, mapping)\n",
    "            # togli triangolo usato\n",
    "            # la lista ris diminuisce\n",
    "            ris = ris[1:]\n",
    "            # i nodi cambiano, sono il risultato della compressione\n",
    "            nodi = list(G.nodes())\n",
    "            nodi.sort(key=lambda x:x[1])\n",
    "            archi = list(G.edges())\n",
    "            n.append(nodi)\n",
    "            a.append(archi)\n",
    "            liv += 1\n",
    "\n",
    "    tot = list(zip(n, a))\n",
    "    #print(\"tot\", tot, \"\\n\")\n",
    "    tup = ()\n",
    "    lista = []\n",
    "    for x in tot:\n",
    "        max_liv = max(x[0], key=itemgetter(0))[0]\n",
    "        l = len(x[0])\n",
    "        tup = (max_liv, l, x[0], x[1])\n",
    "        lista.append(tup)\n",
    "\n",
    "    d = defaultdict(list)\n",
    "    for name, num, nod, arc in lista:\n",
    "        d[name].append((num, nod, arc))\n",
    "\n",
    "    res = list(zip(d, map(min, d.values())))\n",
    "    \n",
    "\n",
    "    return res\n",
    "\n",
    "res = multicoll(G0, motif)"
   ]
  },
  {
   "cell_type": "code",
   "execution_count": 109,
   "metadata": {},
   "outputs": [
    {
     "data": {
      "text/plain": [
       "[(0,\n",
       "  (8,\n",
       "   [(0, 1), (0, 2), (0, 3), (0, 4), (0, 5), (0, 6), (0, 7), (0, 8)],\n",
       "   [((0, 7), (0, 1)),\n",
       "    ((0, 7), (0, 8)),\n",
       "    ((0, 1), (0, 8)),\n",
       "    ((0, 1), (0, 2)),\n",
       "    ((0, 2), (0, 3)),\n",
       "    ((0, 2), (0, 4)),\n",
       "    ((0, 2), (0, 5)),\n",
       "    ((0, 3), (0, 6)),\n",
       "    ((0, 4), (0, 5)),\n",
       "    ((0, 4), (0, 6)),\n",
       "    ((0, 5), (0, 6))])),\n",
       " (1,\n",
       "  (4,\n",
       "   [(1, 1), (1, 2), (0, 3), (0, 6)],\n",
       "   [((1, 1), (1, 1)),\n",
       "    ((1, 1), (1, 2)),\n",
       "    ((1, 2), (0, 3)),\n",
       "    ((1, 2), (1, 2)),\n",
       "    ((1, 2), (0, 6)),\n",
       "    ((0, 3), (0, 6))]))]"
      ]
     },
     "execution_count": 109,
     "metadata": {},
     "output_type": "execute_result"
    }
   ],
   "source": [
    "risultato"
   ]
  },
  {
   "cell_type": "code",
   "execution_count": 49,
   "metadata": {},
   "outputs": [
    {
     "name": "stdout",
     "output_type": "stream",
     "text": [
      "Livello:  [0, 1, 2] \n",
      "# nodi:  [10, 4, 2] \n",
      "Nodi:  [[(0, 1), (0, 2), (0, 3), (0, 4), (0, 5), (0, 6), (0, 7), (0, 8), (0, 9), (0, 10)], [(1, 1), (0, 4), (1, 5), (1, 8)], [(2, 1), (0, 4)]] \n",
      "Archi:  [[((0, 1), (0, 2)), ((0, 1), (0, 3)), ((0, 1), (0, 4)), ((0, 2), (0, 3)), ((0, 2), (0, 8)), ((0, 3), (0, 5)), ((0, 5), (0, 6)), ((0, 5), (0, 7)), ((0, 6), (0, 7)), ((0, 7), (0, 9)), ((0, 9), (0, 8)), ((0, 9), (0, 10)), ((0, 8), (0, 10))], [((1, 1), (1, 1)), ((1, 1), (0, 4)), ((1, 1), (1, 8)), ((1, 1), (1, 5)), ((1, 5), (1, 5)), ((1, 5), (1, 8)), ((1, 8), (1, 8))], [((2, 1), (2, 1)), ((2, 1), (0, 4))]] \n",
      "\n",
      "\n"
     ]
    }
   ],
   "source": [
    "res = frattale(G, motif)\n",
    "livello, num_nodi, nodi, archi = [], [], [], []\n",
    "for i in res:\n",
    "    livello.append(i[0])\n",
    "    num_nodi.append(i[1][0])\n",
    "    nodi.append(i[1][1])\n",
    "    archi.append(i[1][2])\n",
    "\n",
    "print(\"Livello: \", livello, \"\\n# nodi: \", num_nodi,\n",
    "      \"\\nNodi: \", nodi, \"\\nArchi: \", archi, \"\\n\\n\")"
   ]
  },
  {
   "cell_type": "code",
   "execution_count": 50,
   "metadata": {},
   "outputs": [
    {
     "data": {
      "text/plain": [
       "[[(0, 1),\n",
       "  (0, 2),\n",
       "  (0, 3),\n",
       "  (0, 4),\n",
       "  (0, 5),\n",
       "  (0, 6),\n",
       "  (0, 7),\n",
       "  (0, 8),\n",
       "  (0, 9),\n",
       "  (0, 10)],\n",
       " [(1, 1), (0, 4), (1, 5), (1, 8)],\n",
       " [(2, 1), (0, 4)]]"
      ]
     },
     "execution_count": 50,
     "metadata": {},
     "output_type": "execute_result"
    }
   ],
   "source": [
    "nodi"
   ]
  },
  {
   "cell_type": "code",
   "execution_count": 51,
   "metadata": {},
   "outputs": [
    {
     "name": "stdout",
     "output_type": "stream",
     "text": [
      "[((0, 1), (0, 2)), ((0, 1), (0, 3)), ((0, 1), (0, 4)), ((0, 2), (0, 3)), ((0, 2), (0, 8)), ((0, 3), (0, 5)), ((0, 5), (0, 6)), ((0, 5), (0, 7)), ((0, 6), (0, 7)), ((0, 7), (0, 9)), ((0, 9), (0, 8)), ((0, 9), (0, 10)), ((0, 8), (0, 10))]\n"
     ]
    },
    {
     "data": {
      "image/png": "[encoded data removed]",
      "text/plain": [
       "<Figure size 432x288 with 1 Axes>"
      ]
     },
     "metadata": {},
     "output_type": "display_data"
    },
    {
     "name": "stdout",
     "output_type": "stream",
     "text": [
      "[((1, 1), (1, 1)), ((1, 1), (0, 4)), ((1, 1), (1, 8)), ((1, 1), (1, 5)), ((1, 5), (1, 5)), ((1, 5), (1, 8)), ((1, 8), (1, 8))]\n"
     ]
    },
    {
     "data": {
      "image/png": "[encoded data removed]",
      "text/plain": [
       "<Figure size 432x288 with 1 Axes>"
      ]
     },
     "metadata": {},
     "output_type": "display_data"
    },
    {
     "name": "stdout",
     "output_type": "stream",
     "text": [
      "[((2, 1), (2, 1)), ((2, 1), (0, 4))]\n"
     ]
    },
    {
     "data": {
      "image/png": "[encoded data removed]",
      "text/plain": [
       "<Figure size 432x288 with 1 Axes>"
      ]
     },
     "metadata": {},
     "output_type": "display_data"
    }
   ],
   "source": [
    "for i in archi:\n",
    "    print(i)\n",
    "    GG = nx.Graph()\n",
    "    GG.add_edges_from(i)\n",
    "    plt.clf()\n",
    "    nx.draw(GG)\n",
    "    plt.pause(1)\n",
    "    plt.show()"
   ]
  },
  {
   "cell_type": "markdown",
   "metadata": {},
   "source": [
    "---\n",
    "### Memorizza merge\n",
    "[torna su](#Indice)\n",
    "\n",
    "Memorizza merge, per poter ricostruire inversamente\n",
    "\n",
    "Ora funziona con il primo mapping, da rendere iterabile"
   ]
  },
  {
   "cell_type": "code",
   "execution_count": 113,
   "metadata": {},
   "outputs": [],
   "source": [
    "nodi = list(G.nodes())\n",
    "nodi.sort(key=lambda x:x[1])\n",
    "ris = identify(motif, G)\n",
    "mapping = zippa(ris, nodi)\n",
    "m = zippa(ris, nodi)"
   ]
  },
  {
   "cell_type": "code",
   "execution_count": 114,
   "metadata": {},
   "outputs": [
    {
     "data": {
      "text/plain": [
       "{(0, 1): (1, 1),\n",
       " (0, 2): (0, 2),\n",
       " (0, 3): (0, 3),\n",
       " (0, 4): (0, 4),\n",
       " (0, 5): (0, 5),\n",
       " (0, 6): (0, 6),\n",
       " (0, 7): (1, 1),\n",
       " (0, 8): (1, 1)}"
      ]
     },
     "execution_count": 114,
     "metadata": {},
     "output_type": "execute_result"
    }
   ],
   "source": [
    "# Memorizza [(0, 1), (0, 7), (0, 8)] = (1, 1)\n",
    "m"
   ]
  },
  {
   "cell_type": "code",
   "execution_count": 115,
   "metadata": {},
   "outputs": [
    {
     "data": {
      "text/plain": [
       "{(1, 1): [(0, 1), (0, 7), (0, 8)]}"
      ]
     },
     "execution_count": 115,
     "metadata": {},
     "output_type": "execute_result"
    }
   ],
   "source": [
    "def memo(mapping, n):\n",
    "    value_occurrences = collections.Counter(mapping.values())\n",
    "    filtered_dict = {key: value for key, value in mapping.items()\n",
    "                     if value_occurrences[value] == n}\n",
    "    new_list = []\n",
    "    for i, j in filtered_dict.items():\n",
    "        j = list(j)\n",
    "        j = i\n",
    "        j = tuple(j)\n",
    "        new_list.append(j)\n",
    "    a = [i for i in new_list[0]]\n",
    "    a[0] = a[0]+1\n",
    "    a = tuple(a)\n",
    "    thisdict = {a: new_list}\n",
    "    return thisdict\n",
    "\n",
    "# n fisso a 3 perché graphlet di 3 nodi\n",
    "memo(m, 3)"
   ]
  },
  {
   "cell_type": "markdown",
   "metadata": {},
   "source": [
    "***"
   ]
  },
  {
   "cell_type": "markdown",
   "metadata": {},
   "source": [
    "### Indici\n",
    "[torna su](#Indice)"
   ]
  },
  {
   "cell_type": "markdown",
   "metadata": {},
   "source": [
    "**Nodi compressi e nodi mantenuti, count e %**"
   ]
  },
  {
   "cell_type": "code",
   "execution_count": 116,
   "metadata": {},
   "outputs": [
    {
     "data": {
      "text/plain": [
       "(4, 50.0, 4, 50.0)"
      ]
     },
     "execution_count": 116,
     "metadata": {},
     "output_type": "execute_result"
    }
   ],
   "source": [
    "def nodes_decrease(num_nodi):\n",
    "    decrease = num_nodi[0] - num_nodi[-1]\n",
    "    # % decrease = decrease ÷ grafo_0 × 100\n",
    "    decrease_perc = decrease / num_nodi[0] * 100\n",
    "    # remain = grafo_fin\n",
    "    remain = num_nodi[-1]\n",
    "    # remain_perc inverso di decrease_perc\n",
    "    remain_perc = 100 - decrease_perc\n",
    "    #remain_perc2 = len(grafo_fin) / len(grafo_0) * 100\n",
    "\n",
    "    return (decrease, decrease_perc, remain, remain_perc)\n",
    "\n",
    "nodes_decrease(num_nodi)"
   ]
  },
  {
   "cell_type": "markdown",
   "metadata": {},
   "source": [
    "#### Statistiche per livello"
   ]
  },
  {
   "cell_type": "code",
   "execution_count": 117,
   "metadata": {},
   "outputs": [
    {
     "name": "stdout",
     "output_type": "stream",
     "text": [
      "Livello:  0 \n",
      "# nodi:  8 \n",
      "Nodi:  [(0, 1), (0, 2), (0, 3), (0, 4), (0, 5), (0, 6), (0, 7), (0, 8)] \n",
      "Archi:  [((0, 7), (0, 1)), ((0, 7), (0, 8)), ((0, 1), (0, 8)), ((0, 1), (0, 2)), ((0, 2), (0, 3)), ((0, 2), (0, 4)), ((0, 2), (0, 5)), ((0, 3), (0, 6)), ((0, 4), (0, 5)), ((0, 4), (0, 6)), ((0, 5), (0, 6))] \n",
      "\n",
      "\n",
      "Livello:  1 \n",
      "# nodi:  4 \n",
      "Nodi:  [(1, 1), (1, 2), (0, 3), (0, 6)] \n",
      "Archi:  [((1, 1), (1, 1)), ((1, 1), (1, 2)), ((1, 2), (0, 3)), ((1, 2), (1, 2)), ((1, 2), (0, 6)), ((0, 3), (0, 6))] \n",
      "\n",
      "\n"
     ]
    }
   ],
   "source": [
    "for i in res:\n",
    "    print(\"Livello: \", i[0], \"\\n# nodi: \", i[1][0], \"\\nNodi: \",\n",
    "          i[1][1], \"\\nArchi: \", i[1][2], \"\\n\\n\")"
   ]
  }
 ],
 "metadata": {
  "extensions": {
   "jupyter_dashboards": {
    "activeView": "grid_default",
    "version": 1,
    "views": {
     "grid_default": {
      "cellMargin": 10,
      "defaultCellHeight": 20,
      "maxColumns": 12,
      "name": "grid",
      "type": "grid"
     },
     "report_default": {
      "name": "report",
      "type": "report"
     }
    }
   }
  },
  "kernelspec": {
   "display_name": "tesi",
   "language": "python",
   "name": "tesi"
  },
  "language_info": {
   "codemirror_mode": {
    "name": "ipython",
    "version": 3
   },
   "file_extension": ".py",
   "mimetype": "text/x-python",
   "name": "python",
   "nbconvert_exporter": "python",
   "pygments_lexer": "ipython3",
   "version": "3.8.3"
  }
 },
 "nbformat": 4,
 "nbformat_minor": 4
}

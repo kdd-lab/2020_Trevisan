{
 "cells": [
  {
   "cell_type": "markdown",
   "metadata": {
    "extensions": {
     "jupyter_dashboards": {
      "version": 1,
      "views": {
       "grid_default": {},
       "report_default": {}
      }
     }
    }
   },
   "source": [
    "### Pipeline gerarchica - Multicollasso"
   ]
  },
  {
   "cell_type": "code",
   "execution_count": 1,
   "metadata": {
    "extensions": {
     "jupyter_dashboards": {
      "version": 1,
      "views": {
       "grid_default": {},
       "report_default": {}
      }
     }
    }
   },
   "outputs": [],
   "source": [
    "import collections\n",
    "import networkx as nx\n",
    "from grandiso import find_motifs\n",
    "from operator import itemgetter"
   ]
  },
  {
   "cell_type": "code",
   "execution_count": 2,
   "metadata": {
    "extensions": {
     "jupyter_dashboards": {
      "version": 1,
      "views": {
       "grid_default": {},
       "report_default": {}
      }
     }
    }
   },
   "outputs": [],
   "source": [
    "%load_ext pycodestyle_magic\n",
    "# %%pycodestyle"
   ]
  },
  {
   "cell_type": "markdown",
   "metadata": {
    "extensions": {
     "jupyter_dashboards": {
      "version": 1,
      "views": {
       "grid_default": {},
       "report_default": {}
      }
     }
    }
   },
   "source": [
    "#### Grafo test di base `G`"
   ]
  },
  {
   "cell_type": "code",
   "execution_count": 3,
   "metadata": {
    "extensions": {
     "jupyter_dashboards": {
      "version": 1,
      "views": {
       "grid_default": {},
       "report_default": {}
      }
     }
    }
   },
   "outputs": [],
   "source": [
    "# grafo test di base G\n",
    "\n",
    "G0 = nx.Graph()\n",
    "G0.add_edges_from([(7, 1), (8, 1), (7, 8), (1, 2), (2, 3), (2, 4), (2, 5), (4, 5), (3, 6), (4, 6), (5, 6)])\n",
    "# nx.draw(G0)"
   ]
  },
  {
   "cell_type": "markdown",
   "metadata": {
    "extensions": {
     "jupyter_dashboards": {
      "version": 1,
      "views": {
       "grid_default": {},
       "report_default": {}
      }
     }
    }
   },
   "source": [
    "#### Sottografo `motif`"
   ]
  },
  {
   "cell_type": "code",
   "execution_count": 4,
   "metadata": {
    "extensions": {
     "jupyter_dashboards": {
      "version": 1,
      "views": {
       "grid_default": {},
       "report_default": {}
      }
     }
    }
   },
   "outputs": [],
   "source": [
    "# Sottografo motif da trovare nel grafo G: TRIANGOLO\n",
    "\n",
    "motif = nx.Graph()\n",
    "motif.add_edges_from([(1, 2), (2, 3), (3, 1)])\n",
    "# nx.draw(motif)"
   ]
  },
  {
   "cell_type": "markdown",
   "metadata": {},
   "source": [
    "#### Rinomina grafo  `G`"
   ]
  },
  {
   "cell_type": "code",
   "execution_count": 4,
   "metadata": {},
   "outputs": [],
   "source": [
    "def rinomina(G):\n",
    "    livello = 0\n",
    "    nodi = list(G.nodes())\n",
    "    lun = len(nodi)\n",
    "    liv_list = [livello for x in range(lun)]\n",
    "    lista_tuple = list(zip(liv_list, nodi))\n",
    "    mapping = dict(zip(nodi, lista_tuple))\n",
    "    G = nx.relabel_nodes(G, mapping)\n",
    "    \n",
    "    return G"
   ]
  },
  {
   "cell_type": "code",
   "execution_count": null,
   "metadata": {},
   "outputs": [],
   "source": [
    "G0 = rinomina(G0)"
   ]
  },
  {
   "cell_type": "markdown",
   "metadata": {},
   "source": [
    "#### Nodi grafo  `G`"
   ]
  },
  {
   "cell_type": "code",
   "execution_count": 5,
   "metadata": {},
   "outputs": [
    {
     "data": {
      "text/plain": [
       "[(0, 1), (0, 2), (0, 3), (0, 4), (0, 5), (0, 6), (0, 7), (0, 8)]"
      ]
     },
     "execution_count": 5,
     "metadata": {},
     "output_type": "execute_result"
    }
   ],
   "source": [
    "# lista dei nodi:\n",
    "nodi = list(G0.nodes())\n",
    "nodi.sort(key=lambda x:x[1])\n",
    "nodi"
   ]
  },
  {
   "cell_type": "markdown",
   "metadata": {},
   "source": [
    "#### Identify `motif` in `G`"
   ]
  },
  {
   "cell_type": "code",
   "execution_count": 6,
   "metadata": {},
   "outputs": [],
   "source": [
    "def identify(motif, G):\n",
    "    lista1 = find_motifs(motif, G)\n",
    "    if lista1 == []:\n",
    "        return lista1\n",
    "    else:\n",
    "        lista2 = [list(d.values()) for d in lista1]\n",
    "        lista3 = list(set(tuple(sorted(s)) for s in lista2))\n",
    "        lista4 = sorted(lista3)\n",
    "        risultato = [list(el) for el in lista4]\n",
    "\n",
    "        return risultato"
   ]
  },
  {
   "cell_type": "code",
   "execution_count": 13,
   "metadata": {},
   "outputs": [
    {
     "data": {
      "text/plain": [
       "[[(0, 1), (0, 7), (0, 8)], [(0, 2), (0, 4), (0, 5)], [(0, 4), (0, 5), (0, 6)]]"
      ]
     },
     "execution_count": 13,
     "metadata": {},
     "output_type": "execute_result"
    }
   ],
   "source": [
    "ris = identify(motif, G0)\n",
    "ris = sorted(ris)\n",
    "ris"
   ]
  },
  {
   "cell_type": "code",
   "execution_count": 14,
   "metadata": {},
   "outputs": [
    {
     "data": {
      "text/plain": [
       "[(0, 1), (0, 7), (0, 8)]"
      ]
     },
     "execution_count": 14,
     "metadata": {},
     "output_type": "execute_result"
    }
   ],
   "source": [
    "# primo triangolo\n",
    "\n",
    "ris[0]"
   ]
  },
  {
   "cell_type": "code",
   "execution_count": 15,
   "metadata": {},
   "outputs": [
    {
     "data": {
      "text/plain": [
       "(0, 1)"
      ]
     },
     "execution_count": 15,
     "metadata": {},
     "output_type": "execute_result"
    }
   ],
   "source": [
    "# primo nodo\n",
    "\n",
    "ris[0][0]"
   ]
  },
  {
   "cell_type": "code",
   "execution_count": 16,
   "metadata": {},
   "outputs": [
    {
     "data": {
      "text/plain": [
       "0"
      ]
     },
     "execution_count": 16,
     "metadata": {},
     "output_type": "execute_result"
    }
   ],
   "source": [
    "# soluzione più veloce\n",
    "\n",
    "max_liv = max(ris[0], key=itemgetter(0))[0]\n",
    "max_liv"
   ]
  },
  {
   "cell_type": "code",
   "execution_count": 17,
   "metadata": {},
   "outputs": [],
   "source": [
    "# altra soluzione\n",
    "# max_liv = max(ris[0], key=lambda item:item[0])[0]"
   ]
  },
  {
   "cell_type": "code",
   "execution_count": 7,
   "metadata": {},
   "outputs": [],
   "source": [
    "def funzione(results, nodes):\n",
    "    max_liv = max(results[0], key=itemgetter(0))[0]\n",
    "    lista_temp = []\n",
    "    tri = []\n",
    "    for x in nodes:\n",
    "        if x in results[0]:\n",
    "            # sostituisci il livello del primo nodo ??? è corretto ???\n",
    "            # (per comodità scelgo il primo) con il MAX+1\n",
    "            x = list(x)\n",
    "            x[0] = max_liv+1\n",
    "            x = tuple(x)\n",
    "            tri.append(x)\n",
    "    # avevo messo 3\n",
    "    if len(tri) == len(results[0]):\n",
    "        for x in nodes:\n",
    "            if x in results[0]:\n",
    "                lista_temp.append(tri[0])\n",
    "            else:\n",
    "                lista_temp.append(x)\n",
    "        mapping = dict(zip(nodes, lista_temp))\n",
    "        \n",
    "        return mapping\n",
    "\n",
    "    else:\n",
    "        mapping = []\n",
    "        return mapping\n",
    "\n"
   ]
  },
  {
   "cell_type": "code",
   "execution_count": 21,
   "metadata": {},
   "outputs": [
    {
     "data": {
      "text/plain": [
       "{(0, 1): (1, 1),\n",
       " (0, 2): (0, 2),\n",
       " (0, 3): (0, 3),\n",
       " (0, 4): (0, 4),\n",
       " (0, 5): (0, 5),\n",
       " (0, 6): (0, 6),\n",
       " (0, 7): (1, 1),\n",
       " (0, 8): (1, 1)}"
      ]
     },
     "execution_count": 21,
     "metadata": {},
     "output_type": "execute_result"
    }
   ],
   "source": [
    "mapping = funzione(ris, nodi)\n",
    "mapping"
   ]
  },
  {
   "cell_type": "code",
   "execution_count": 48,
   "metadata": {},
   "outputs": [
    {
     "data": {
      "text/plain": [
       "{(0, 1): (1, 1),\n",
       " (0, 2): (0, 2),\n",
       " (0, 3): (0, 3),\n",
       " (0, 4): (0, 4),\n",
       " (0, 5): (0, 5),\n",
       " (0, 6): (0, 6),\n",
       " (0, 7): (1, 1),\n",
       " (0, 8): (1, 1)}"
      ]
     },
     "execution_count": 48,
     "metadata": {},
     "output_type": "execute_result"
    }
   ],
   "source": [
    "# PROVA\n",
    "\n",
    "max_liv = max(ris[0], key=itemgetter(0))[0]\n",
    "lista_temp = []\n",
    "tri = []\n",
    "for x in nodi:\n",
    "    if x in ris[0]:\n",
    "        # sostituisci il livello del primo nodo ??? è corretto ???\n",
    "        # (per comodità scelgo il primo) con il MAX+1\n",
    "        x = list(x)\n",
    "        x[0] = max_liv+1\n",
    "        x = tuple(x)\n",
    "        tri.append(x)\n",
    "for x in nodi:\n",
    "    if x in ris[0]:\n",
    "        lista_temp.append(tri[0])\n",
    "    else:\n",
    "        lista_temp.append(x)\n",
    "\n",
    "mapping = dict(zip(nodi, lista_temp))\n",
    "mapping"
   ]
  },
  {
   "cell_type": "code",
   "execution_count": 22,
   "metadata": {},
   "outputs": [
    {
     "data": {
      "text/plain": [
       "NodeView(((1, 1), (0, 2), (0, 3), (0, 4), (0, 5), (0, 6)))"
      ]
     },
     "execution_count": 22,
     "metadata": {},
     "output_type": "execute_result"
    }
   ],
   "source": [
    "G1 = nx.relabel_nodes(G0, mapping)\n",
    "G1.nodes()"
   ]
  },
  {
   "cell_type": "code",
   "execution_count": 23,
   "metadata": {},
   "outputs": [
    {
     "data": {
      "text/plain": [
       "[(1, 1), (0, 2), (0, 3), (0, 4), (0, 5), (0, 6)]"
      ]
     },
     "execution_count": 23,
     "metadata": {},
     "output_type": "execute_result"
    }
   ],
   "source": [
    "nodi1 = list(G1.nodes()) \n",
    "nodi1.sort(key=lambda x:x[1])\n",
    "nodi1"
   ]
  },
  {
   "cell_type": "code",
   "execution_count": 24,
   "metadata": {},
   "outputs": [],
   "source": [
    "#ris1 = ris.pop(0)\n",
    "#ris1"
   ]
  },
  {
   "cell_type": "code",
   "execution_count": 25,
   "metadata": {},
   "outputs": [
    {
     "data": {
      "text/plain": [
       "[[(0, 2), (0, 4), (0, 5)], [(0, 4), (0, 5), (0, 6)]]"
      ]
     },
     "execution_count": 25,
     "metadata": {},
     "output_type": "execute_result"
    }
   ],
   "source": [
    "del ris[0]\n",
    "ris"
   ]
  },
  {
   "cell_type": "code",
   "execution_count": 26,
   "metadata": {},
   "outputs": [
    {
     "data": {
      "text/plain": [
       "{(1, 1): (1, 1),\n",
       " (0, 2): (1, 2),\n",
       " (0, 3): (0, 3),\n",
       " (0, 4): (1, 2),\n",
       " (0, 5): (1, 2),\n",
       " (0, 6): (0, 6)}"
      ]
     },
     "execution_count": 26,
     "metadata": {},
     "output_type": "execute_result"
    }
   ],
   "source": [
    "mapping1 = funzione(ris, nodi1)\n",
    "mapping1"
   ]
  },
  {
   "cell_type": "code",
   "execution_count": 27,
   "metadata": {},
   "outputs": [
    {
     "data": {
      "text/plain": [
       "NodeView(((1, 1), (1, 2), (0, 3), (0, 6)))"
      ]
     },
     "execution_count": 27,
     "metadata": {},
     "output_type": "execute_result"
    }
   ],
   "source": [
    "G2 = nx.relabel_nodes(G1, mapping1)\n",
    "G2.nodes()"
   ]
  },
  {
   "cell_type": "code",
   "execution_count": 28,
   "metadata": {},
   "outputs": [
    {
     "data": {
      "text/plain": [
       "[(1, 1), (1, 2), (0, 3), (0, 6)]"
      ]
     },
     "execution_count": 28,
     "metadata": {},
     "output_type": "execute_result"
    }
   ],
   "source": [
    "nodi2 = list(G2.nodes()) \n",
    "nodi2.sort(key=lambda x:x[1])\n",
    "nodi2"
   ]
  },
  {
   "cell_type": "code",
   "execution_count": 29,
   "metadata": {},
   "outputs": [
    {
     "data": {
      "text/plain": [
       "[[(0, 4), (0, 5), (0, 6)]]"
      ]
     },
     "execution_count": 29,
     "metadata": {},
     "output_type": "execute_result"
    }
   ],
   "source": [
    "del ris[0]\n",
    "ris"
   ]
  },
  {
   "cell_type": "code",
   "execution_count": 30,
   "metadata": {},
   "outputs": [
    {
     "data": {
      "text/plain": [
       "[[(0, 4), (0, 5), (0, 6)]]"
      ]
     },
     "execution_count": 30,
     "metadata": {},
     "output_type": "execute_result"
    }
   ],
   "source": [
    "ris"
   ]
  },
  {
   "cell_type": "code",
   "execution_count": 31,
   "metadata": {},
   "outputs": [
    {
     "data": {
      "text/plain": [
       "[(1, 1), (1, 2), (0, 3), (0, 6)]"
      ]
     },
     "execution_count": 31,
     "metadata": {},
     "output_type": "execute_result"
    }
   ],
   "source": [
    "nodi2"
   ]
  },
  {
   "cell_type": "code",
   "execution_count": 32,
   "metadata": {},
   "outputs": [
    {
     "data": {
      "text/plain": [
       "[]"
      ]
     },
     "execution_count": 32,
     "metadata": {},
     "output_type": "execute_result"
    }
   ],
   "source": [
    "mapping2 = funzione(ris, nodi2)\n",
    "mapping2"
   ]
  },
  {
   "cell_type": "code",
   "execution_count": 33,
   "metadata": {},
   "outputs": [
    {
     "data": {
      "text/plain": [
       "[[(0, 3), (0, 6), (1, 2)]]"
      ]
     },
     "execution_count": 33,
     "metadata": {},
     "output_type": "execute_result"
    }
   ],
   "source": [
    "# lista di triangoli trovati\n",
    "\n",
    "ris1 = identify(motif, G2)\n",
    "#ris1 = sorted(ris1)\n",
    "ris1"
   ]
  },
  {
   "cell_type": "code",
   "execution_count": 34,
   "metadata": {},
   "outputs": [],
   "source": [
    "ris1 = ris1[0]\n",
    "ris1.sort(key=lambda x:x[1])\n",
    "ris1 = [ris1]"
   ]
  },
  {
   "cell_type": "code",
   "execution_count": 35,
   "metadata": {},
   "outputs": [
    {
     "data": {
      "text/plain": [
       "[[(1, 2), (0, 3), (0, 6)]]"
      ]
     },
     "execution_count": 35,
     "metadata": {},
     "output_type": "execute_result"
    }
   ],
   "source": [
    "ris1"
   ]
  },
  {
   "cell_type": "code",
   "execution_count": 36,
   "metadata": {},
   "outputs": [
    {
     "data": {
      "text/plain": [
       "[(1, 1), (1, 2), (0, 3), (0, 6)]"
      ]
     },
     "execution_count": 36,
     "metadata": {},
     "output_type": "execute_result"
    }
   ],
   "source": [
    "nodi2"
   ]
  },
  {
   "cell_type": "code",
   "execution_count": 37,
   "metadata": {},
   "outputs": [
    {
     "data": {
      "text/plain": [
       "3"
      ]
     },
     "execution_count": 37,
     "metadata": {},
     "output_type": "execute_result"
    }
   ],
   "source": [
    "len(ris1[0])"
   ]
  },
  {
   "cell_type": "code",
   "execution_count": 104,
   "metadata": {},
   "outputs": [],
   "source": [
    "# NO RUN\n",
    "\n",
    "def funzione(results, nodes):\n",
    "    max_liv = max(results[0], key=itemgetter(0))[0]\n",
    "    lista_temp = []\n",
    "    tri = []\n",
    "    for x in nodes:\n",
    "        if x in results[0]:\n",
    "            # sostituisci il livello del primo nodo ??? è corretto ???\n",
    "            # (per comodità scelgo il primo) con il MAX+1\n",
    "            x = list(x)\n",
    "            x[0] = max_liv+1\n",
    "            x = tuple(x)\n",
    "            tri.append(x)\n",
    "    if len(tri) == len(results[0]):\n",
    "        for x in nodes:\n",
    "            if x in results[0]:\n",
    "                lista_temp.append(tri[0])\n",
    "            else:\n",
    "                lista_temp.append(x)\n",
    "                print(lista_temp)\n",
    "        mapping = dict(zip(nodes, lista_temp))\n",
    "        return mapping\n",
    "\n",
    "    else:\n",
    "        mapping = []\n",
    "        return mapping\n",
    "\n"
   ]
  },
  {
   "cell_type": "code",
   "execution_count": 105,
   "metadata": {},
   "outputs": [
    {
     "name": "stdout",
     "output_type": "stream",
     "text": [
      "[(1, 1)]\n"
     ]
    }
   ],
   "source": [
    "# NO RUN\n",
    "\n",
    "mapping3 = funzione(ris1, nodi2)\n",
    "# cos'è sto [(1, 1)] ??????''"
   ]
  },
  {
   "cell_type": "code",
   "execution_count": 38,
   "metadata": {},
   "outputs": [
    {
     "data": {
      "text/plain": [
       "{(1, 1): (1, 1), (1, 2): (2, 2), (0, 3): (2, 2), (0, 6): (2, 2)}"
      ]
     },
     "execution_count": 38,
     "metadata": {},
     "output_type": "execute_result"
    }
   ],
   "source": [
    "mapping3 = funzione(ris1, nodi2)\n",
    "mapping3"
   ]
  },
  {
   "cell_type": "code",
   "execution_count": 39,
   "metadata": {},
   "outputs": [
    {
     "data": {
      "text/plain": [
       "NodeView(((1, 1), (2, 2)))"
      ]
     },
     "execution_count": 39,
     "metadata": {},
     "output_type": "execute_result"
    }
   ],
   "source": [
    "G3 = nx.relabel_nodes(G2, mapping3)\n",
    "G3.nodes()"
   ]
  },
  {
   "cell_type": "code",
   "execution_count": 40,
   "metadata": {},
   "outputs": [
    {
     "data": {
      "text/plain": [
       "[(1, 1), (2, 2)]"
      ]
     },
     "execution_count": 40,
     "metadata": {},
     "output_type": "execute_result"
    }
   ],
   "source": [
    "nodi3 = list(G3.nodes()) \n",
    "nodi3.sort(key=lambda x:x[1])\n",
    "nodi3"
   ]
  },
  {
   "cell_type": "code",
   "execution_count": null,
   "metadata": {},
   "outputs": [],
   "source": []
  },
  {
   "cell_type": "code",
   "execution_count": null,
   "metadata": {},
   "outputs": [],
   "source": []
  },
  {
   "cell_type": "code",
   "execution_count": 8,
   "metadata": {},
   "outputs": [
    {
     "name": "stdout",
     "output_type": "stream",
     "text": [
      "nodi [(0, 1), (0, 2), (0, 3), (0, 4), (0, 5), (0, 6), (0, 7), (0, 8)]\n",
      "ris [[(0, 1), (0, 7), (0, 8)], [(0, 2), (0, 4), (0, 5)], [(0, 4), (0, 5), (0, 6)]]\n",
      "mapping {(0, 1): (1, 1), (0, 2): (0, 2), (0, 3): (0, 3), (0, 4): (0, 4), (0, 5): (0, 5), (0, 6): (0, 6), (0, 7): (1, 1), (0, 8): (1, 1)}\n",
      "nodi 1 [(1, 1), (0, 2), (0, 3), (0, 4), (0, 5), (0, 6)]\n",
      "ris [[(0, 2), (0, 4), (0, 5)], [(0, 4), (0, 5), (0, 6)]]\n",
      "mapping 1 {(1, 1): (1, 1), (0, 2): (1, 2), (0, 3): (0, 3), (0, 4): (1, 2), (0, 5): (1, 2), (0, 6): (0, 6)}\n",
      "nodi 2 [(1, 1), (1, 2), (0, 3), (0, 6)]\n",
      "ris [[(0, 4), (0, 5), (0, 6)]]\n",
      "mapping 2 []\n",
      "ris 1 [[(0, 3), (0, 6), (1, 2)]]\n",
      "mapping 3 {(1, 1): (1, 1), (1, 2): (2, 2), (0, 3): (2, 2), (0, 6): (2, 2)}\n",
      "nodi 3 [(1, 1), (2, 2)]\n"
     ]
    }
   ],
   "source": [
    "# grafo test di base G\n",
    "\n",
    "G0 = nx.Graph()\n",
    "G0.add_edges_from([(7, 1), (8, 1), (7, 8), (1, 2), (2, 3), (2, 4), (2, 5), (4, 5), (3, 6), (4, 6), (5, 6)])\n",
    "G0 = rinomina(G0)\n",
    "G0.nodes()\n",
    "# lista dei nodi:\n",
    "nodi = list(G0.nodes())\n",
    "nodi.sort(key=lambda x:x[1])\n",
    "print(\"nodi\", nodi)\n",
    "ris = identify(motif, G0)\n",
    "ris = sorted(ris)\n",
    "print(\"ris\",ris)\n",
    "mapping = funzione(ris, nodi)\n",
    "print(\"mapping\", mapping)\n",
    "\n",
    "G1 = nx.relabel_nodes(G0, mapping)\n",
    "G1.nodes()\n",
    "nodi1 = list(G1.nodes()) \n",
    "nodi1.sort(key=lambda x:x[1])\n",
    "print(\"nodi 1\", nodi1)\n",
    "\n",
    "del ris[0]\n",
    "print(\"ris\",ris)\n",
    "\n",
    "mapping1 = funzione(ris, nodi1)\n",
    "print(\"mapping 1\", mapping1)\n",
    "\n",
    "G2 = nx.relabel_nodes(G1, mapping1)\n",
    "G2.nodes()\n",
    "\n",
    "nodi2 = list(G2.nodes()) \n",
    "nodi2.sort(key=lambda x:x[1])\n",
    "print(\"nodi 2\", nodi2)\n",
    "\n",
    "del ris[0]\n",
    "print(\"ris\",ris)\n",
    "\n",
    "mapping2 = funzione(ris, nodi2)\n",
    "print(\"mapping 2\", mapping2)\n",
    "\n",
    "# lista di triangoli trovati\n",
    "ris1 = identify(motif, G2)\n",
    "ris1 = sorted(ris1)\n",
    "ris1\n",
    "print(\"ris 1\",ris1)\n",
    "mapping3 = funzione(ris1, nodi2)\n",
    "print(\"mapping 3\", mapping3)\n",
    "\n",
    "G3 = nx.relabel_nodes(G2, mapping3)\n",
    "G3.nodes()\n",
    "\n",
    "nodi3 = list(G3.nodes()) \n",
    "nodi3.sort(key=lambda x:x[1])\n",
    "print(\"nodi 3\", nodi3)"
   ]
  },
  {
   "cell_type": "code",
   "execution_count": null,
   "metadata": {},
   "outputs": [],
   "source": []
  },
  {
   "cell_type": "code",
   "execution_count": null,
   "metadata": {},
   "outputs": [],
   "source": []
  },
  {
   "cell_type": "code",
   "execution_count": 17,
   "metadata": {},
   "outputs": [],
   "source": [
    "# grafo test di base G\n",
    "\n",
    "G0 = nx.Graph()\n",
    "G0.add_edges_from([(7, 1), (8, 1), (7, 8), (1, 2), (2, 3), (2, 4), (2, 5), (4, 5), (3, 6), (4, 6), (5, 6)])\n",
    "\n",
    "# Sottografo motif da trovare nel grafo G: TRIANGOLO\n",
    "\n",
    "motif = nx.Graph()\n",
    "motif.add_edges_from([(1, 2), (2, 3), (3, 1)])"
   ]
  },
  {
   "cell_type": "code",
   "execution_count": null,
   "metadata": {},
   "outputs": [],
   "source": [
    "G1 = nx.relabel_nodes(G0, mapping)\n",
    "G1.nodes()\n",
    "nodi1 = list(G1.nodes()) \n",
    "nodi1.sort(key=lambda x:x[1])\n",
    "print(\"nodi 1\", nodi1)\n",
    "\n",
    "del ris[0]\n",
    "print(\"ris\",ris)\n",
    "\n",
    "mapping1 = funzione(ris, nodi1)\n",
    "print(\"mapping 1\", mapping1)\n",
    "\n",
    "G2 = nx.relabel_nodes(G1, mapping1)\n",
    "G2.nodes()\n"
   ]
  },
  {
   "cell_type": "code",
   "execution_count": 27,
   "metadata": {},
   "outputs": [
    {
     "name": "stdout",
     "output_type": "stream",
     "text": [
      "[[(0, 1), (0, 7), (0, 8)], [(0, 2), (0, 4), (0, 5)], [(0, 4), (0, 5), (0, 6)]]\n",
      "{(0, 1): (1, 1), (0, 2): (0, 2), (0, 3): (0, 3), (0, 4): (0, 4), (0, 5): (0, 5), (0, 6): (0, 6), (0, 7): (1, 1), (0, 8): (1, 1)}\n",
      "[[(0, 2), (0, 4), (0, 5)], [(0, 4), (0, 5), (0, 6)]]\n",
      "Nodi:  [(1, 1), (0, 2), (0, 3), (0, 4), (0, 5), (0, 6)]\n",
      "[[(0, 4), (0, 5), (0, 6)]]\n",
      "Nodi:  [(1, 1), (0, 2), (0, 3), (0, 4), (0, 5), (0, 6)]\n",
      "[]\n",
      "Nodi:  [(1, 1), (0, 2), (0, 3), (0, 4), (0, 5), (0, 6)]\n"
     ]
    }
   ],
   "source": [
    "def prova(grafo, motif):\n",
    "    # rinomina G\n",
    "    G = rinomina(grafo)\n",
    "    # nodi G\n",
    "    nodi = list(G.nodes())\n",
    "    nodi.sort(key=lambda x:x[1])\n",
    "    # chiama identify\n",
    "    ris = identify(motif, G)\n",
    "    print(ris)\n",
    "    while ris != []:\n",
    "        ris = sorted(ris)\n",
    "        # chiama funzione per mapping\n",
    "        mapping = funzione(ris, nodi)\n",
    "        print(mapping)\n",
    "        while ris != []:\n",
    "            # chiama relabel\n",
    "            G = nx.relabel_nodes(G, mapping)\n",
    "            # togli ris[0]\n",
    "            #del ris[0]\n",
    "            ris.pop(0)\n",
    "            print(ris)\n",
    "            # nuovi nodi G\n",
    "            nodi = list(G.nodes()) \n",
    "            nodi.sort(key=lambda x:x[1])\n",
    "            print(\"Nodi: \", nodi)\n",
    "            # richiama la funzione per mapping ^\n",
    "            # CONDIZIONE D'USCITA: mapping == []\n",
    "    # richiama identify\n",
    "\n",
    "prova(G0, motif)"
   ]
  },
  {
   "cell_type": "code",
   "execution_count": null,
   "metadata": {},
   "outputs": [],
   "source": []
  },
  {
   "cell_type": "code",
   "execution_count": null,
   "metadata": {},
   "outputs": [],
   "source": []
  },
  {
   "cell_type": "code",
   "execution_count": null,
   "metadata": {},
   "outputs": [],
   "source": []
  },
  {
   "cell_type": "code",
   "execution_count": null,
   "metadata": {},
   "outputs": [],
   "source": []
  },
  {
   "cell_type": "code",
   "execution_count": null,
   "metadata": {},
   "outputs": [],
   "source": []
  },
  {
   "cell_type": "code",
   "execution_count": null,
   "metadata": {},
   "outputs": [],
   "source": []
  },
  {
   "cell_type": "code",
   "execution_count": null,
   "metadata": {},
   "outputs": [],
   "source": []
  },
  {
   "cell_type": "code",
   "execution_count": null,
   "metadata": {},
   "outputs": [],
   "source": [
    "def fuuu(motif, G):\n",
    "    liv = 1\n",
    "    while liv < 100:\n",
    "        ris = identify(motif, G)\n",
    "        if ris == []:\n",
    "            break\n",
    "        else:\n",
    "            mapping = funzione(G, motif)\n",
    "            G = nx.relabel_nodes(G, mapping)\n",
    "            print(G.nodes())\n",
    "            liv += 1\n",
    "    return G"
   ]
  },
  {
   "cell_type": "code",
   "execution_count": null,
   "metadata": {},
   "outputs": [],
   "source": [
    "def ooo(G0, motif):\n",
    "    i = 1\n",
    "\n",
    "    G = rinomina(G0)\n",
    "    G.nodes()\n",
    "    # lista dei nodi:\n",
    "    nodi = list(G.nodes())\n",
    "    nodi.sort(key=lambda x:x[1])\n",
    "    print(\"nodi\", nodi)\n",
    "    ris = identify(motif, G)\n",
    "    if ris = []:\n",
    "        break\n",
    "    else:\n",
    "        ris = sorted(ris)\n",
    "        print(\"ris\",ris)\n",
    "        mapping = funzione(ris, nodi)\n",
    "        print(\"mapping\", mapping)\n",
    "        while mapping != []:\n",
    "            G = nx.relabel_nodes(G, mapping)\n",
    "            G.nodes()\n",
    "            nodi1 = list(G.nodes()) \n",
    "            nodi1.sort(key=lambda x:x[1])\n",
    "            del ris[0]\n",
    "        i +=1\n",
    "    return G\n",
    "\n",
    "G1.nodes()\n",
    "nodi1 = list(G1.nodes()) \n",
    "nodi1.sort(key=lambda x:x[1])\n",
    "print(\"nodi 1\", nodi1)\n",
    "\n",
    "del ris[0]\n",
    "print(\"ris\",ris)\n",
    "\n",
    "mapping1 = funzione(ris, nodi1)\n",
    "print(\"mapping 1\", mapping1)\n",
    "\n",
    "G2 = nx.relabel_nodes(G1, mapping1)\n",
    "G2.nodes()\n",
    "\n",
    "nodi2 = list(G2.nodes()) \n",
    "nodi2.sort(key=lambda x:x[1])\n",
    "print(\"nodi 2\", nodi2)\n",
    "\n",
    "del ris[0]\n",
    "print(\"ris\",ris)\n",
    "\n",
    "mapping2 = funzione(ris, nodi2)\n",
    "print(\"mapping 2\", mapping2)\n",
    "\n",
    "# lista di triangoli trovati\n",
    "ris1 = identify(motif, G2)\n",
    "ris1 = sorted(ris1)\n",
    "ris1\n",
    "print(\"ris 1\",ris1)\n",
    "mapping3 = funzione(ris1, nodi2)\n",
    "print(\"mapping 3\", mapping3)\n",
    "\n",
    "G3 = nx.relabel_nodes(G2, mapping3)\n",
    "G3.nodes()\n",
    "\n",
    "nodi3 = list(G3.nodes()) \n",
    "nodi3.sort(key=lambda x:x[1])\n",
    "print(\"nodi 3\", nodi3)"
   ]
  },
  {
   "cell_type": "code",
   "execution_count": null,
   "metadata": {},
   "outputs": [],
   "source": []
  },
  {
   "cell_type": "code",
   "execution_count": null,
   "metadata": {},
   "outputs": [],
   "source": []
  },
  {
   "cell_type": "markdown",
   "metadata": {},
   "source": [
    "---"
   ]
  },
  {
   "cell_type": "markdown",
   "metadata": {},
   "source": [
    "#### Funzione che chiama le funzioni definite sopra"
   ]
  },
  {
   "cell_type": "code",
   "execution_count": null,
   "metadata": {},
   "outputs": [],
   "source": [
    "def fuuu(motif, G):\n",
    "    liv = 1\n",
    "    while liv < 100:\n",
    "        ris = identify(motif, G)\n",
    "        if ris == []:\n",
    "            break\n",
    "        else:\n",
    "            mapping = funzione(G, motif)\n",
    "            G = nx.relabel_nodes(G, mapping)\n",
    "            print(G.nodes())\n",
    "            liv += 1\n",
    "    return G"
   ]
  },
  {
   "cell_type": "code",
   "execution_count": 17,
   "metadata": {},
   "outputs": [
    {
     "name": "stdout",
     "output_type": "stream",
     "text": [
      "[(1, 1), (1, 2), (1, 3), (1, 6)]\n",
      "[(2, 1), (2, 2)]\n"
     ]
    }
   ],
   "source": [
    "G = funzione(motif, G0)"
   ]
  },
  {
   "cell_type": "code",
   "execution_count": 18,
   "metadata": {},
   "outputs": [
    {
     "name": "stdout",
     "output_type": "stream",
     "text": [
      "[(1, 1), (1, 2), (1, 5)]\n"
     ]
    },
    {
     "data": {
      "text/plain": [
       "NodeView(((1, 1), (1, 2), (1, 5)))"
      ]
     },
     "execution_count": 18,
     "metadata": {},
     "output_type": "execute_result"
    }
   ],
   "source": [
    "# run per quadrati OK\n",
    "G_test = funzione(motif1, G0)\n",
    "G_test.nodes()"
   ]
  },
  {
   "cell_type": "code",
   "execution_count": 19,
   "metadata": {},
   "outputs": [
    {
     "data": {
      "image/png": "[encoded data removed]",
      "text/plain": [
       "<Figure size 432x288 with 1 Axes>"
      ]
     },
     "metadata": {},
     "output_type": "display_data"
    }
   ],
   "source": [
    "ris = identify(motif1, G0)\n",
    "liv = 0\n",
    "mapp = comprimi_rinomina(G0, liv, motif1)\n",
    "G0 = rinomina_archi(G0)\n",
    "G0.nodes()\n",
    "G1 = nx.relabel_nodes(G0, mapp)\n",
    "nx.draw(G1)"
   ]
  },
  {
   "cell_type": "markdown",
   "metadata": {},
   "source": [
    "#### MEMORIZZA merge, poter ricostruire e farci indici"
   ]
  },
  {
   "cell_type": "code",
   "execution_count": 20,
   "metadata": {},
   "outputs": [
    {
     "data": {
      "text/plain": [
       "{1: (0, 1), 2: (0, 2), 3: (0, 3), 4: (0, 2), 5: (0, 2), 6: (0, 6)}"
      ]
     },
     "execution_count": 20,
     "metadata": {},
     "output_type": "execute_result"
    }
   ],
   "source": [
    "# Memorizza [(0, 2), (0, 4), (0, 5)] = (1, 2)\n",
    "\n",
    "mapping = {1: (0, 1), 2: (0, 2), 3: (0, 3), 4: (0, 2), 5: (0, 2), 6: (0, 6)}\n",
    "mapping"
   ]
  },
  {
   "cell_type": "code",
   "execution_count": 21,
   "metadata": {},
   "outputs": [],
   "source": [
    "def memo(mapping, n):\n",
    "    value_occurrences = collections.Counter(mapping.values())\n",
    "    filtered_dict = {key: value for key, value in mapping.items()\n",
    "                     if value_occurrences[value] == n}\n",
    "    new_list = []\n",
    "    for i, j in filtered_dict.items():\n",
    "        j = list(j)\n",
    "        j[1] = i\n",
    "        j = tuple(j)\n",
    "        new_list.append(j)\n",
    "    a = [i for i in new_list[0]]\n",
    "    a[0] = a[0]+1\n",
    "    a = tuple(a)\n",
    "    thisdict = {a: new_list}\n",
    "    return thisdict"
   ]
  },
  {
   "cell_type": "code",
   "execution_count": 22,
   "metadata": {},
   "outputs": [
    {
     "data": {
      "text/plain": [
       "{(1, 2): [(0, 2), (0, 4), (0, 5)]}"
      ]
     },
     "execution_count": 22,
     "metadata": {},
     "output_type": "execute_result"
    }
   ],
   "source": [
    "# n fisso a 3 perché graphlet di 3 nodi\n",
    "memo(mapping, 3)"
   ]
  },
  {
   "cell_type": "markdown",
   "metadata": {},
   "source": [
    "***"
   ]
  },
  {
   "cell_type": "markdown",
   "metadata": {},
   "source": [
    "#### Indici"
   ]
  },
  {
   "cell_type": "code",
   "execution_count": 23,
   "metadata": {},
   "outputs": [
    {
     "data": {
      "text/plain": [
       "NodeView((1, 2, 3, 4, 5, 6))"
      ]
     },
     "execution_count": 23,
     "metadata": {},
     "output_type": "execute_result"
    }
   ],
   "source": [
    "G0.nodes()"
   ]
  },
  {
   "cell_type": "code",
   "execution_count": 24,
   "metadata": {},
   "outputs": [
    {
     "data": {
      "text/plain": [
       "NodeView(((2, 1), (2, 2)))"
      ]
     },
     "execution_count": 24,
     "metadata": {},
     "output_type": "execute_result"
    }
   ],
   "source": [
    "G.nodes()"
   ]
  },
  {
   "cell_type": "markdown",
   "metadata": {},
   "source": [
    "**Nodi compressi e nodi mantenuti, count e %**"
   ]
  },
  {
   "cell_type": "code",
   "execution_count": 25,
   "metadata": {},
   "outputs": [
    {
     "data": {
      "text/plain": [
       "(4, 66.66666666666666, 2, 33.33333333333334)"
      ]
     },
     "execution_count": 25,
     "metadata": {},
     "output_type": "execute_result"
    }
   ],
   "source": [
    "def nodes_decrease(g_0, g_fin):\n",
    "    grafo_0 = g_0.nodes()\n",
    "    [grafo_0]\n",
    "    grafo_fin = g_fin.nodes()\n",
    "    [grafo_fin]\n",
    "    # decrease = grafo_0 - grafo_fin\n",
    "    decrease = len(grafo_0) - len(grafo_fin)\n",
    "    # % decrease = decrease ÷ grafo_0 × 100\n",
    "    decrease_perc = decrease / len(grafo_0) * 100\n",
    "    # remain = grafo_fin\n",
    "    remain = len(grafo_fin)\n",
    "    # remain_perc inverso di decrease_perc\n",
    "    remain_perc = 100 - decrease_perc\n",
    "    #remain_perc2 = len(grafo_fin) / len(grafo_0) * 100\n",
    "\n",
    "    return (decrease, decrease_perc, remain, remain_perc)\n",
    "\n",
    "\n",
    "nodes_decrease(G0, G)"
   ]
  },
  {
   "cell_type": "markdown",
   "metadata": {},
   "source": [
    "**Livelli**"
   ]
  },
  {
   "cell_type": "code",
   "execution_count": 28,
   "metadata": {},
   "outputs": [],
   "source": [
    "# grafo test di base G\n",
    "\n",
    "G0 = nx.Graph()\n",
    "G0.add_edges_from([(1, 2), (2, 3), (2, 4), (2, 5), (4, 5), (3, 6), (4, 6), (5, 6)])\n",
    "# nx.draw(G)"
   ]
  },
  {
   "cell_type": "code",
   "execution_count": 29,
   "metadata": {},
   "outputs": [
    {
     "data": {
      "text/plain": [
       "NodeView(((0, 1), (0, 2), (0, 3), (0, 4), (0, 5), (0, 6)))"
      ]
     },
     "execution_count": 29,
     "metadata": {},
     "output_type": "execute_result"
    }
   ],
   "source": [
    "def rinomina(G):\n",
    "    livello = 0\n",
    "    nodi = list(G.nodes())\n",
    "    lun = len(nodi)\n",
    "    liv_list = [livello for x in range(lun)]\n",
    "    lista_tuple = list(zip(liv_list, nodi))\n",
    "    mapping = dict(zip(nodi, lista_tuple))\n",
    "    G = nx.relabel_nodes(G, mapping)\n",
    "    \n",
    "    return G\n",
    "\n",
    "G0 = rinomina(G0)\n",
    "G0.nodes()"
   ]
  },
  {
   "cell_type": "code",
   "execution_count": 30,
   "metadata": {},
   "outputs": [],
   "source": [
    "def funzione(motif, G):\n",
    "    liv = 1\n",
    "    lista = []\n",
    "    while liv < 100:\n",
    "        ris = identify(motif, G)\n",
    "        if ris == []:\n",
    "            break\n",
    "        else:\n",
    "            mapping = comprimi_rinomina(G, liv, motif)\n",
    "            G = rinomina_archi(G)\n",
    "            G = nx.relabel_nodes(G, mapping)\n",
    "            # nx.draw(G)\n",
    "            a = list(G.nodes())\n",
    "            liv += 1\n",
    "            lista.append(a)\n",
    "    return lista\n",
    "\n",
    "G = funzione(motif, G0)"
   ]
  },
  {
   "cell_type": "code",
   "execution_count": 31,
   "metadata": {},
   "outputs": [],
   "source": [
    "new = list(G0.nodes())"
   ]
  },
  {
   "cell_type": "code",
   "execution_count": 32,
   "metadata": {},
   "outputs": [
    {
     "data": {
      "text/plain": [
       "[[(0, 1), (0, 2), (0, 3), (0, 4), (0, 5), (0, 6)],\n",
       " [(1, 1), (1, 2), (1, 3), (1, 6)],\n",
       " [(2, 1), (2, 2)]]"
      ]
     },
     "execution_count": 32,
     "metadata": {},
     "output_type": "execute_result"
    }
   ],
   "source": [
    "G.insert(0, new)\n",
    "G"
   ]
  },
  {
   "cell_type": "markdown",
   "metadata": {},
   "source": [
    "#### Testare la funzione anche con altri motif"
   ]
  },
  {
   "cell_type": "code",
   "execution_count": 36,
   "metadata": {},
   "outputs": [
    {
     "data": {
      "image/png": "[encoded data removed]",
      "text/plain": [
       "<Figure size 432x288 with 1 Axes>"
      ]
     },
     "metadata": {},
     "output_type": "display_data"
    }
   ],
   "source": [
    "G0 = nx.complete_graph(10, create_using=None)\n",
    "G0 = rinomina(G0)\n",
    "nx.draw(G0)"
   ]
  },
  {
   "cell_type": "code",
   "execution_count": 37,
   "metadata": {},
   "outputs": [],
   "source": [
    "G = funzione(M15, G0)"
   ]
  },
  {
   "cell_type": "code",
   "execution_count": 38,
   "metadata": {},
   "outputs": [
    {
     "data": {
      "text/plain": [
       "[[(1, 0), (1, 5), (1, 6), (1, 7), (1, 8), (1, 9)], [(2, 0), (2, 9)]]"
      ]
     },
     "execution_count": 38,
     "metadata": {},
     "output_type": "execute_result"
    }
   ],
   "source": [
    "G"
   ]
  }
 ],
 "metadata": {
  "extensions": {
   "jupyter_dashboards": {
    "activeView": "grid_default",
    "version": 1,
    "views": {
     "grid_default": {
      "cellMargin": 10,
      "defaultCellHeight": 20,
      "maxColumns": 12,
      "name": "grid",
      "type": "grid"
     },
     "report_default": {
      "name": "report",
      "type": "report"
     }
    }
   }
  },
  "kernelspec": {
   "display_name": "tesi",
   "language": "python",
   "name": "tesi"
  },
  "language_info": {
   "codemirror_mode": {
    "name": "ipython",
    "version": 3
   },
   "file_extension": ".py",
   "mimetype": "text/x-python",
   "name": "python",
   "nbconvert_exporter": "python",
   "pygments_lexer": "ipython3",
   "version": "3.8.3"
  }
 },
 "nbformat": 4,
 "nbformat_minor": 4
}

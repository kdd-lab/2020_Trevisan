{
 "cells": [
  {
   "cell_type": "markdown",
   "metadata": {
    "extensions": {
     "jupyter_dashboards": {
      "version": 1,
      "views": {
       "grid_default": {},
       "report_default": {}
      }
     }
    }
   },
   "source": [
    "### Pipeline gerarchica\n",
    "\n",
    "**PIPELINE - APPROCCIO GERARCHICO**\n",
    "\n",
    "Contributo algoritmico per semplificare il grafo trovando strutture ripetitive-ricorsive al suo interno.\n",
    "\n",
    "Procedura:\n",
    "\n",
    "```\n",
    "Identificare sottografo motif nel grafo G (figure come la prima iterazione di un frattale)\n",
    "Collassare il motif in un solo nodo\n",
    "Aggiornare il peso e il colore degli archi\n",
    "Riapplicare il procedimento al grafo risultante (nuovo livello)\n",
    "```"
   ]
  },
  {
   "cell_type": "code",
   "execution_count": 1,
   "metadata": {
    "extensions": {
     "jupyter_dashboards": {
      "version": 1,
      "views": {
       "grid_default": {},
       "report_default": {}
      }
     }
    }
   },
   "outputs": [],
   "source": [
    "import networkx as nx\n",
    "from grandiso import find_motifs"
   ]
  },
  {
   "cell_type": "code",
   "execution_count": 2,
   "metadata": {
    "extensions": {
     "jupyter_dashboards": {
      "version": 1,
      "views": {
       "grid_default": {},
       "report_default": {}
      }
     }
    }
   },
   "outputs": [],
   "source": [
    "%load_ext pycodestyle_magic\n",
    "# %%pycodestyle"
   ]
  },
  {
   "cell_type": "markdown",
   "metadata": {
    "extensions": {
     "jupyter_dashboards": {
      "version": 1,
      "views": {
       "grid_default": {},
       "report_default": {}
      }
     }
    }
   },
   "source": [
    "#### Grafo test di base `G`"
   ]
  },
  {
   "cell_type": "code",
   "execution_count": 3,
   "metadata": {
    "extensions": {
     "jupyter_dashboards": {
      "version": 1,
      "views": {
       "grid_default": {},
       "report_default": {}
      }
     }
    }
   },
   "outputs": [],
   "source": [
    "# grafo test di base G\n",
    "\n",
    "G0 = nx.Graph()\n",
    "G0.add_edges_from([(1, 2), (2, 3), (2, 4), (2, 5), (4, 5), (3, 6), (4, 6), (5, 6)])\n",
    "# nx.draw(G)"
   ]
  },
  {
   "cell_type": "code",
   "execution_count": 4,
   "metadata": {},
   "outputs": [],
   "source": [
    "def rinomina(G):\n",
    "    livello = 0\n",
    "    nodi = list(G.nodes())\n",
    "    lun = len(nodi)\n",
    "    liv_list = [livello for x in range(lun)]\n",
    "    lista_tuple = list(zip(liv_list, nodi))\n",
    "    mapping = dict(zip(nodi, lista_tuple))\n",
    "    G = nx.relabel_nodes(G, mapping)\n",
    "    \n",
    "    return G\n",
    "\n",
    "G_rin = rinomina(G0)"
   ]
  },
  {
   "cell_type": "markdown",
   "metadata": {
    "extensions": {
     "jupyter_dashboards": {
      "version": 1,
      "views": {
       "grid_default": {},
       "report_default": {}
      }
     }
    }
   },
   "source": [
    "#### Sottografo `motif`"
   ]
  },
  {
   "cell_type": "code",
   "execution_count": 4,
   "metadata": {
    "extensions": {
     "jupyter_dashboards": {
      "version": 1,
      "views": {
       "grid_default": {},
       "report_default": {}
      }
     }
    }
   },
   "outputs": [],
   "source": [
    "# Sottografo motif da trovare nel grafo G: TRIANGOLO\n",
    "\n",
    "motif = nx.Graph()\n",
    "motif.add_edges_from([(1, 2), (2, 3), (3, 1)])\n",
    "# nx.draw(motif)"
   ]
  },
  {
   "cell_type": "code",
   "execution_count": 5,
   "metadata": {
    "extensions": {
     "jupyter_dashboards": {
      "version": 1,
      "views": {
       "grid_default": {},
       "report_default": {}
      }
     }
    }
   },
   "outputs": [],
   "source": [
    "# Sottografo motif da trovare nel grafo G: QUADRATO\n",
    "\n",
    "# motif1 = nx.Graph()\n",
    "# motif1.add_edges_from([(1, 2), (2, 3), (3, 4), (4, 1)])\n",
    "# nx.draw(motif1)"
   ]
  },
  {
   "cell_type": "markdown",
   "metadata": {},
   "source": [
    "***"
   ]
  },
  {
   "cell_type": "markdown",
   "metadata": {},
   "source": [
    "La funzione `identify` prende in input un grafo `G` e un sottografo `motif`, chiama la funzione `find_motifs` della libreria grandiso che sostituisce una lista di dizionari in cui ogni dizionario è un `motif` trovato in `G` e converte l'output in lista di uniche liste."
   ]
  },
  {
   "cell_type": "code",
   "execution_count": 12,
   "metadata": {
    "extensions": {
     "jupyter_dashboards": {
      "version": 1,
      "views": {
       "grid_default": {},
       "report_default": {}
      }
     }
    }
   },
   "outputs": [
    {
     "data": {
      "text/plain": [
       "[2, 4, 5, 4, 5, 6]"
      ]
     },
     "execution_count": 12,
     "metadata": {},
     "output_type": "execute_result"
    }
   ],
   "source": [
    "def identify(motif, G):\n",
    "    lista1 = find_motifs(motif, G)\n",
    "    lista2 = [list(d.values()) for d in lista1]\n",
    "    lista3 = list(set(tuple(sorted(s)) for s in lista2))\n",
    "    risultato = [list(el) for el in lista3]\n",
    "    ris2  = [val for sublist in risultato for val in sublist]\n",
    "    #ris2 = [x[1] for x in ris2]\n",
    "    #ris2 = [ris2]\n",
    "    #risultato = [item for sublist in risultato for item in sublist]\n",
    "    #risultato = [val for sublist in risultato for val in sublist]\n",
    "    #risultato = [x[1] for x in risultato]\n",
    "    #risultato = [risultato]\n",
    "    return ris2\n",
    "\n",
    "ris = identify(motif, G0)\n",
    "ris"
   ]
  },
  {
   "cell_type": "markdown",
   "metadata": {},
   "source": [
    "***"
   ]
  },
  {
   "cell_type": "code",
   "execution_count": 5,
   "metadata": {},
   "outputs": [],
   "source": [
    "def comprimi_rinomina():\n",
    "    livello = 1\n",
    "    #ris = identify(motif, G)\n",
    "    nodi = list(G0.nodes())\n",
    "    lun = len(nodi)\n",
    "    lista_temp = nodi[:]\n",
    "    for x in lista_temp:\n",
    "        if x in ris[0]:\n",
    "            lista_temp[x-1] = ris[0][0]\n",
    "    lista_temp\n",
    "    liv_list = [livello for x in range(lun)]\n",
    "    lista_tuple = list(zip(liv_list, lista_temp))\n",
    "    mapping = dict(zip(nodi, lista_tuple))\n",
    "    \n",
    "    return mapping\n",
    "    "
   ]
  },
  {
   "cell_type": "code",
   "execution_count": 6,
   "metadata": {},
   "outputs": [
    {
     "data": {
      "text/plain": [
       "{1: (1, 1), 2: (1, 2), 3: (1, 3), 4: (1, 2), 5: (1, 2), 6: (1, 6)}"
      ]
     },
     "execution_count": 6,
     "metadata": {},
     "output_type": "execute_result"
    }
   ],
   "source": [
    "mapp = comprimi_rinomina()\n",
    "mapp"
   ]
  },
  {
   "cell_type": "code",
   "execution_count": null,
   "metadata": {},
   "outputs": [],
   "source": [
    "# variante per lista_temp\n",
    "for x in lista_temp:\n",
    "    if x in ris[0]:\n",
    "        print(lista_temp[x-1])\n",
    "        lista_temp[lun-1] = ris[0][0]\n",
    "lista_temp"
   ]
  },
  {
   "cell_type": "code",
   "execution_count": 7,
   "metadata": {},
   "outputs": [
    {
     "name": "stdout",
     "output_type": "stream",
     "text": [
      "[1, 2, 3, 4, 5, 6]\n"
     ]
    }
   ],
   "source": [
    "print(G0.nodes())"
   ]
  },
  {
   "cell_type": "code",
   "execution_count": 8,
   "metadata": {},
   "outputs": [
    {
     "name": "stdout",
     "output_type": "stream",
     "text": [
      "[(1, 1), (1, 2), (1, 3), (1, 6)]\n"
     ]
    },
    {
     "data": {
      "image/png": "[encoded data removed]",
      "text/plain": [
       "<Figure size 432x288 with 1 Axes>"
      ]
     },
     "metadata": {},
     "output_type": "display_data"
    }
   ],
   "source": [
    "G1 = nx.relabel_nodes(G0, mapp)\n",
    "print(G1.nodes())\n",
    "nx.draw(G1)"
   ]
  },
  {
   "cell_type": "code",
   "execution_count": 24,
   "metadata": {},
   "outputs": [
    {
     "data": {
      "text/plain": [
       "[[(1, 2), (1, 3), (1, 6)]]"
      ]
     },
     "execution_count": 24,
     "metadata": {},
     "output_type": "execute_result"
    }
   ],
   "source": [
    "ris2 = identify(motif, G1)\n",
    "ris2"
   ]
  },
  {
   "cell_type": "markdown",
   "metadata": {},
   "source": [
    "#### Seconda iterazione"
   ]
  },
  {
   "cell_type": "code",
   "execution_count": 10,
   "metadata": {},
   "outputs": [
    {
     "data": {
      "text/plain": [
       "{1: (1, 1), 2: (1, 2), 3: (1, 2), 6: (1, 2)}"
      ]
     },
     "execution_count": 10,
     "metadata": {},
     "output_type": "execute_result"
    }
   ],
   "source": [
    "def comprimi_rinomina2():\n",
    "    livello2 = 1\n",
    "    ris2 = identify(motif, G1)\n",
    "    ris2  = [val for sublist in ris2 for val in sublist]\n",
    "    ris2 = [x[1] for x in ris2]\n",
    "    ris2 = [ris2]\n",
    "    nodi2 = list(G1.nodes())\n",
    "    nodi2 = [x[1] for x in nodi2]\n",
    "    lun2 = len(nodi2)\n",
    "    lista_temp2 = []\n",
    "    for x in nodi2:\n",
    "        if x in ris2[0]:\n",
    "            lista_temp2.append(ris2[0][0])\n",
    "        else:\n",
    "            lista_temp2.append(x)\n",
    "    liv_list2 = [livello2 for x in range(lun2)]\n",
    "    lista_tuple2 = list(zip(liv_list2, lista_temp2))\n",
    "    mapping2 = dict(zip(nodi2, lista_tuple2))\n",
    "    \n",
    "    return mapping2\n",
    "mapp2 = comprimi_rinomina2()\n",
    "mapp2"
   ]
  },
  {
   "cell_type": "code",
   "execution_count": 28,
   "metadata": {},
   "outputs": [
    {
     "data": {
      "text/plain": [
       "{1: (1, 1), 2: (1, 2), 3: (1, 2), 6: (1, 2)}"
      ]
     },
     "execution_count": 28,
     "metadata": {},
     "output_type": "execute_result"
    }
   ],
   "source": [
    "mapp2 = comprimi_rinomina2()\n",
    "mapp2"
   ]
  },
  {
   "cell_type": "code",
   "execution_count": null,
   "metadata": {},
   "outputs": [],
   "source": [
    "# tentativo per lista_temp2\n",
    "a = [1, 2, 3, 6]\n",
    "b = [2, 3, 6]\n",
    "c = []\n",
    "for x in a:\n",
    "    if x in b:\n",
    "        c.append(b[0])\n",
    "        #print(b[0])\n",
    "    else:\n",
    "        c.append(x)\n",
    "        #print(x)\n",
    "c"
   ]
  },
  {
   "cell_type": "code",
   "execution_count": 31,
   "metadata": {},
   "outputs": [],
   "source": [
    "# Rinomino archi del grafo\n",
    "\n",
    "archi = list(G1.edges())\n",
    "archi2 = []\n",
    "for i in archi:\n",
    "    archi2.append((i[0][1], i[1][1]))\n",
    "G1 = nx.Graph()\n",
    "G1.add_edges_from(archi2)\n",
    "# nx.draw(G1)"
   ]
  },
  {
   "cell_type": "code",
   "execution_count": 32,
   "metadata": {},
   "outputs": [
    {
     "name": "stdout",
     "output_type": "stream",
     "text": [
      "[(1, 1), (1, 2)]\n"
     ]
    },
    {
     "data": {
      "image/png": "[encoded data removed]",
      "text/plain": [
       "<Figure size 432x288 with 1 Axes>"
      ]
     },
     "metadata": {},
     "output_type": "display_data"
    }
   ],
   "source": [
    "G2 = nx.relabel_nodes(G1, mapp2)\n",
    "print(G2.nodes())\n",
    "nx.draw(G2)"
   ]
  },
  {
   "cell_type": "code",
   "execution_count": null,
   "metadata": {},
   "outputs": [],
   "source": []
  },
  {
   "cell_type": "code",
   "execution_count": null,
   "metadata": {},
   "outputs": [],
   "source": []
  }
 ],
 "metadata": {
  "extensions": {
   "jupyter_dashboards": {
    "activeView": "grid_default",
    "version": 1,
    "views": {
     "grid_default": {
      "cellMargin": 10,
      "defaultCellHeight": 20,
      "maxColumns": 12,
      "name": "grid",
      "type": "grid"
     },
     "report_default": {
      "name": "report",
      "type": "report"
     }
    }
   }
  },
  "kernelspec": {
   "display_name": "tesi",
   "language": "python",
   "name": "tesi"
  },
  "language_info": {
   "codemirror_mode": {
    "name": "ipython",
    "version": 3
   },
   "file_extension": ".py",
   "mimetype": "text/x-python",
   "name": "python",
   "nbconvert_exporter": "python",
   "pygments_lexer": "ipython3",
   "version": "3.8.3"
  }
 },
 "nbformat": 4,
 "nbformat_minor": 4
}

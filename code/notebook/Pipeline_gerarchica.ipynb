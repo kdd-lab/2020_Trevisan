{
 "cells": [
  {
   "cell_type": "markdown",
   "metadata": {
    "extensions": {
     "jupyter_dashboards": {
      "version": 1,
      "views": {
       "grid_default": {},
       "report_default": {}
      }
     }
    }
   },
   "source": [
    "### Pipeline gerarchica\n",
    "\n",
    "**PIPELINE - APPROCCIO GERARCHICO**\n",
    "\n",
    "Contributo algoritmico per semplificare il grafo trovando strutture ripetitive-ricorsive al suo interno.\n",
    "\n",
    "Procedura:\n",
    "\n",
    "```\n",
    "Identificare sottografo motif nel grafo G (figure come la prima iterazione di un frattale)\n",
    "Collassare il motif in un solo nodo\n",
    "Aggiornare il peso e il colore degli archi\n",
    "Riapplicare il procedimento al grafo risultante (nuovo livello)\n",
    "```"
   ]
  },
  {
   "cell_type": "code",
   "execution_count": 3,
   "metadata": {
    "extensions": {
     "jupyter_dashboards": {
      "version": 1,
      "views": {
       "grid_default": {},
       "report_default": {}
      }
     }
    }
   },
   "outputs": [],
   "source": [
    "import networkx as nx\n",
    "from grandiso import find_motifs"
   ]
  },
  {
   "cell_type": "code",
   "execution_count": 4,
   "metadata": {
    "extensions": {
     "jupyter_dashboards": {
      "version": 1,
      "views": {
       "grid_default": {},
       "report_default": {}
      }
     }
    }
   },
   "outputs": [],
   "source": [
    "%load_ext pycodestyle_magic\n",
    "# %%pycodestyle"
   ]
  },
  {
   "cell_type": "markdown",
   "metadata": {
    "extensions": {
     "jupyter_dashboards": {
      "version": 1,
      "views": {
       "grid_default": {},
       "report_default": {}
      }
     }
    }
   },
   "source": [
    "#### Grafo test di base `G`"
   ]
  },
  {
   "cell_type": "code",
   "execution_count": 5,
   "metadata": {
    "extensions": {
     "jupyter_dashboards": {
      "version": 1,
      "views": {
       "grid_default": {},
       "report_default": {}
      }
     }
    }
   },
   "outputs": [],
   "source": [
    "# grafo test di base G\n",
    "\n",
    "G = nx.Graph()\n",
    "G.add_edges_from([(1, 2), (2, 3), (2, 4), (2, 5), (4, 5), (3, 6), (4, 6), (5, 6)])\n",
    "# nx.draw(G)"
   ]
  },
  {
   "cell_type": "markdown",
   "metadata": {
    "extensions": {
     "jupyter_dashboards": {
      "version": 1,
      "views": {
       "grid_default": {},
       "report_default": {}
      }
     }
    }
   },
   "source": [
    "#### Sottografo `motif`"
   ]
  },
  {
   "cell_type": "code",
   "execution_count": 4,
   "metadata": {
    "extensions": {
     "jupyter_dashboards": {
      "version": 1,
      "views": {
       "grid_default": {},
       "report_default": {}
      }
     }
    }
   },
   "outputs": [],
   "source": [
    "# Sottografo motif da trovare nel grafo G: TRIANGOLO\n",
    "\n",
    "motif = nx.Graph()\n",
    "motif.add_edges_from([(1, 2), (2, 3), (3, 1)])\n",
    "# nx.draw(motif)"
   ]
  },
  {
   "cell_type": "code",
   "execution_count": 7,
   "metadata": {},
   "outputs": [],
   "source": [
    "# 1 Graphlet di 2 nodi\n",
    "\n",
    "M0 = nx.Graph()\n",
    "M0.add_edges_from([(1, 2)])\n",
    "#nx.draw(M0)"
   ]
  },
  {
   "cell_type": "code",
   "execution_count": 22,
   "metadata": {},
   "outputs": [],
   "source": [
    "# 2 Graphlet di 3 nodi\n",
    "\n",
    "M1 = nx.Graph()\n",
    "M1.add_edges_from([(1, 2), (2, 3)])\n",
    "# nx.draw(M1)\n",
    "\n",
    "\n",
    "M2 = nx.Graph()\n",
    "M2.add_edges_from([(1, 2), (2, 3), (3, 1)])\n",
    "# nx.draw(M2)"
   ]
  },
  {
   "cell_type": "code",
   "execution_count": 57,
   "metadata": {},
   "outputs": [
    {
     "data": {
      "image/png": "[encoded data removed]",
      "text/plain": [
       "<Figure size 432x288 with 2 Axes>"
      ]
     },
     "metadata": {},
     "output_type": "display_data"
    }
   ],
   "source": [
    "graphs = [M1, M2]\n",
    "\n",
    "fig, axes = plt.subplots(nrows=1, ncols=2)\n",
    "ax = axes.flatten()\n",
    "\n",
    "for i in range(2):\n",
    "    nx.draw_networkx(graphs[i], ax=ax[i])\n",
    "    ax[i].set_axis_off()\n",
    "\n",
    "plt.show()"
   ]
  },
  {
   "cell_type": "code",
   "execution_count": 30,
   "metadata": {},
   "outputs": [],
   "source": [
    "# 6 Graphlet di 4 nodi \n",
    "\n",
    "M3 = nx.Graph()\n",
    "M3.add_edges_from([(1, 2), (2, 3), (3, 4)])\n",
    "# nx.draw(M3)\n",
    "\n",
    "\n",
    "M4 = nx.Graph()\n",
    "M4.add_edges_from([(1, 2), (2, 3), (2, 4)])\n",
    "# nx.draw(M4)\n",
    "\n",
    "M5 = nx.Graph()\n",
    "M5.add_edges_from([(1, 2), (2, 3), (3, 4), (4, 1)])\n",
    "# nx.draw(M5)\n",
    "\n",
    "M6 = nx.Graph()\n",
    "M6.add_edges_from([(1, 2), (2, 3), (2, 4), (3, 4)])\n",
    "# nx.draw(M6)\n",
    "\n",
    "M7 = nx.Graph()\n",
    "M7.add_edges_from([(1, 2), (2, 3), (3, 4), (4, 1), (2, 4)])\n",
    "# nx.draw(M7)\n",
    "\n",
    "M8 = nx.Graph()\n",
    "M8.add_edges_from([(1, 2), (2, 3), (2, 4), (1, 3), (3, 4), (1, 4)])\n",
    "# nx.draw(M8)"
   ]
  },
  {
   "cell_type": "code",
   "execution_count": 5,
   "metadata": {
    "extensions": {
     "jupyter_dashboards": {
      "version": 1,
      "views": {
       "grid_default": {},
       "report_default": {}
      }
     }
    }
   },
   "outputs": [],
   "source": [
    "# Sottografo motif da trovare nel grafo G: QUADRATO\n",
    "\n",
    "# motif1 = nx.Graph()\n",
    "# motif1.add_edges_from([(1, 2), (2, 3), (3, 4), (4, 1)])\n",
    "# nx.draw(motif1)"
   ]
  },
  {
   "cell_type": "code",
   "execution_count": 146,
   "metadata": {},
   "outputs": [],
   "source": [
    "# 21 Graphlet 5 nodi\n",
    "\n",
    "M9 = nx.Graph()\n",
    "M9.add_edges_from([(1, 2), (2, 3), (3, 4), (4, 5)])\n",
    "# nx.draw(M9)\n",
    "\n",
    "M10 = nx.Graph()\n",
    "M10.add_edges_from([(1, 2), (2, 3), (3, 4), (3, 5)])\n",
    "# nx.draw(M10)\n",
    "\n",
    "M11 = nx.Graph()\n",
    "M11.add_edges_from([(1, 2), (2, 3), (2, 4), (2, 5)])\n",
    "# nx.draw(M11)\n",
    "\n",
    "M12 = nx.Graph()\n",
    "M12.add_edges_from([(1, 2), (2, 3), (2, 4), (3, 4), (4, 5)])\n",
    "# nx.draw(M12)\n",
    "\n",
    "M13 = nx.Graph()\n",
    "M13.add_edges_from([(1, 2), (2, 3), (3, 4), (3, 5), (4, 5)])\n",
    "# nx.draw(M13)\n",
    "\n",
    "M14 = nx.Graph()\n",
    "M14.add_edges_from([(1, 2), (2, 3), (3, 4), (2, 4), (2, 5)])\n",
    "# nx.draw(M14)\n",
    "\n",
    "M15 = nx.Graph()\n",
    "M15.add_edges_from([(1, 2), (2, 3), (3, 4), (4, 5), (1, 5)])\n",
    "# nx.draw(M15)\n",
    "\n",
    "M16 = nx.Graph()\n",
    "M16.add_edges_from([(1, 2), (2, 3), (3, 4), (4, 5), (2, 5)])\n",
    "# nx.draw(M16)\n",
    "\n",
    "M17 = nx.Graph()\n",
    "M17.add_edges_from([(1, 2), (2, 3), (3, 4), (4, 5), (2, 4), (2, 5)])\n",
    "# nx.draw(M17)\n",
    "\n",
    "M18 = nx.Graph()\n",
    "M18.add_edges_from([(1, 2), (2, 3), (1, 3), (3, 4), (4, 5), (3, 5)])\n",
    "# nx.draw(M18)\n",
    "\n",
    "M19 = nx.Graph()\n",
    "M19.add_edges_from([(1, 2), (2, 3), (3, 4), (4, 5), (3, 5), (2, 5)])\n",
    "# nx.draw(M19)\n",
    "\n",
    "M20 = nx.Graph()\n",
    "M20.add_edges_from([(1, 2), (2, 3), (3, 4), (1, 4), (1, 5), (3, 5)])\n",
    "#nx.draw(M20)\n",
    "\n",
    "M21 = nx.Graph()\n",
    "M21.add_edges_from([(1, 2), (1, 3), (2, 4), (3, 4), (3, 5), (4, 5)])\n",
    "# nx.draw(M21)\n",
    "\n",
    "M22 = nx.Graph()\n",
    "M22.add_edges_from([(1, 3), (1, 5), (2, 3), (3, 4), (4, 5), (3, 5), (2, 5)])\n",
    "# nx.draw(M22)\n",
    "\n",
    "M23 = nx.Graph()\n",
    "M23.add_edges_from([(1, 2), (2, 3), (3, 4), (2, 4), (2, 5), (3, 5), (4, 5)])\n",
    "# nx.draw(M23)\n",
    "\n",
    "M24 = nx.Graph()\n",
    "M24.add_edges_from([(1, 2), (2, 3), (1, 4), (2, 4), (3, 5), (2, 5), (4, 5)])\n",
    "# nx.draw(M24)\n",
    "\n",
    "M25 = nx.Graph()\n",
    "M25.add_edges_from([(1, 2), (2, 3), (1, 4), (2, 4), (3, 4), (1, 5), (3, 5)])\n",
    "# nx.draw(M25)\n",
    "\n",
    "M26 = nx.Graph()\n",
    "M26.add_edges_from([(1, 2), (1, 3), (1, 5), (2, 3), (3, 4), (4, 5), (3, 5), (2, 5)])\n",
    "# nx.draw(M26)\n",
    "\n",
    "M27 = nx.Graph()\n",
    "M27.add_edges_from([(1, 2), (2, 3), (3, 4), (1, 4), (1, 5), (2, 5), (3, 5), (4, 5)])\n",
    "#nx.draw(M27)\n",
    "\n",
    "M28 = nx.Graph()\n",
    "M28.add_edges_from([(1, 2), (1, 3), (1, 5), (2, 3), (2, 4), (3, 4), (4, 5), (3, 5), (2, 5)])\n",
    "# nx.draw(M28)\n",
    "\n",
    "M29 = nx.Graph()\n",
    "M29.add_edges_from([(1, 2), (2, 3), (3, 4), (4, 5), (1, 5), (1, 3), (1, 4), (2, 5), (2, 4), (3, 5)])\n",
    "# nx.draw(M29)"
   ]
  },
  {
   "cell_type": "markdown",
   "metadata": {
    "extensions": {
     "jupyter_dashboards": {
      "version": 1,
      "views": {
       "grid_default": {},
       "report_default": {}
      }
     }
    }
   },
   "source": [
    "## TODO: definisci una serie di pattern\n",
    "- singolo nodo\n",
    "- due nodi e un arco\n",
    "- triangolo aperto\n",
    "- quadrato aperto\n",
    "- combinazioni varie\n",
    "- stelle\n",
    "- curve frattali\n",
    "- insieme di julia"
   ]
  },
  {
   "cell_type": "markdown",
   "metadata": {},
   "source": [
    "***"
   ]
  },
  {
   "cell_type": "markdown",
   "metadata": {},
   "source": [
    "La funzione `identify` prende in input un grafo `G` e un sottografo `motif`, chiama la funzione `find_motifs` della libreria grandiso che sostituisce una lista di dizionari in cui ogni dizionario è un `motif` trovato in `G` e converte l'output in lista di uniche liste."
   ]
  },
  {
   "cell_type": "code",
   "execution_count": 5,
   "metadata": {
    "extensions": {
     "jupyter_dashboards": {
      "version": 1,
      "views": {
       "grid_default": {},
       "report_default": {}
      }
     }
    }
   },
   "outputs": [],
   "source": [
    "def identify(motif, G):\n",
    "    lista1 = find_motifs(motif, G)\n",
    "    lista2 = [list(d.values()) for d in lista1]\n",
    "    lista3 = list(set(tuple(sorted(s)) for s in lista2))\n",
    "    risultato = [list(el) for el in lista3]\n",
    "    return risultato"
   ]
  },
  {
   "cell_type": "markdown",
   "metadata": {},
   "source": [
    "***"
   ]
  },
  {
   "cell_type": "code",
   "execution_count": 6,
   "metadata": {},
   "outputs": [],
   "source": [
    "def comprimi_rinomina():\n",
    "    livello = 0\n",
    "    ris = identify(motif, G)\n",
    "    nodi = list(G.nodes())\n",
    "    lun = len(nodi)\n",
    "    lista_temp = nodi[:]\n",
    "    for x in lista_temp:\n",
    "        if x in ris[0]:\n",
    "            lista_temp[x-1] = ris[0][0]\n",
    "    lista_temp\n",
    "    liv_list = [livello for x in range(lun)]\n",
    "    lista_tuple = list(zip(liv_list, lista_temp))\n",
    "    mapping = dict(zip(nodi, lista_tuple))\n",
    "    \n",
    "    return mapping\n",
    "    "
   ]
  },
  {
   "cell_type": "code",
   "execution_count": null,
   "metadata": {},
   "outputs": [],
   "source": [
    "# variante per lista_temp\n",
    "for x in lista_temp:\n",
    "    if x in ris[0]:\n",
    "        print(lista_temp[x-1])\n",
    "        lista_temp[lun-1] = ris[0][0]\n",
    "lista_temp"
   ]
  },
  {
   "cell_type": "code",
   "execution_count": 7,
   "metadata": {},
   "outputs": [
    {
     "data": {
      "text/plain": [
       "{1: (0, 1), 2: (0, 2), 3: (0, 3), 4: (0, 2), 5: (0, 2), 6: (0, 6)}"
      ]
     },
     "execution_count": 7,
     "metadata": {},
     "output_type": "execute_result"
    }
   ],
   "source": [
    "mapp = comprimi_rinomina()\n",
    "mapp"
   ]
  },
  {
   "cell_type": "code",
   "execution_count": 8,
   "metadata": {},
   "outputs": [
    {
     "name": "stdout",
     "output_type": "stream",
     "text": [
      "[(0, 1), (0, 2), (0, 3), (0, 6)]\n"
     ]
    },
    {
     "data": {
      "image/png": "[encoded data removed]",
      "text/plain": [
       "<Figure size 432x288 with 1 Axes>"
      ]
     },
     "metadata": {},
     "output_type": "display_data"
    }
   ],
   "source": [
    "G1 = nx.relabel_nodes(G, mapp)\n",
    "print(G1.nodes())\n",
    "nx.draw(G1)"
   ]
  },
  {
   "cell_type": "markdown",
   "metadata": {},
   "source": [
    "#### Seconda iterazione"
   ]
  },
  {
   "cell_type": "code",
   "execution_count": 9,
   "metadata": {},
   "outputs": [],
   "source": [
    "def comprimi_rinomina2():\n",
    "    livello2 = 1\n",
    "    ris2 = identify(motif, G1)\n",
    "    ris2  = [val for sublist in ris2 for val in sublist]\n",
    "    ris2 = [x[1] for x in ris2]\n",
    "    ris2 = [ris2]\n",
    "    nodi2 = list(G1.nodes())\n",
    "    nodi2 = [x[1] for x in nodi2]\n",
    "    lun2 = len(nodi2)\n",
    "    lista_temp2 = []\n",
    "    for x in nodi2:\n",
    "        if x in ris2[0]:\n",
    "            lista_temp2.append(ris2[0][0])\n",
    "        else:\n",
    "            lista_temp2.append(x)\n",
    "    liv_list2 = [livello2 for x in range(lun2)]\n",
    "    lista_tuple2 = list(zip(liv_list2, lista_temp2))\n",
    "    mapping2 = dict(zip(nodi2, lista_tuple2))\n",
    "    \n",
    "    return mapping2\n"
   ]
  },
  {
   "cell_type": "code",
   "execution_count": null,
   "metadata": {},
   "outputs": [],
   "source": [
    "# tentativo per lista_temp2\n",
    "a = [1, 2, 3, 6]\n",
    "b = [2, 3, 6]\n",
    "c = []\n",
    "for x in a:\n",
    "    if x in b:\n",
    "        c.append(b[0])\n",
    "        #print(b[0])\n",
    "    else:\n",
    "        c.append(x)\n",
    "        #print(x)\n",
    "c"
   ]
  },
  {
   "cell_type": "code",
   "execution_count": 10,
   "metadata": {},
   "outputs": [
    {
     "data": {
      "text/plain": [
       "{1: (1, 1), 2: (1, 2), 3: (1, 2), 6: (1, 2)}"
      ]
     },
     "execution_count": 10,
     "metadata": {},
     "output_type": "execute_result"
    }
   ],
   "source": [
    "mapp2 = comprimi_rinomina2()\n",
    "mapp2"
   ]
  },
  {
   "cell_type": "code",
   "execution_count": 11,
   "metadata": {},
   "outputs": [],
   "source": [
    "# Rinomino archi del grafo\n",
    "\n",
    "archi = list(G1.edges())\n",
    "archi2 = []\n",
    "for i in archi:\n",
    "    archi2.append((i[0][1], i[1][1]))\n",
    "G1 = nx.Graph()\n",
    "G1.add_edges_from(archi2)\n",
    "# nx.draw(G1)"
   ]
  },
  {
   "cell_type": "code",
   "execution_count": 12,
   "metadata": {},
   "outputs": [
    {
     "name": "stdout",
     "output_type": "stream",
     "text": [
      "[(1, 1), (1, 2)]\n"
     ]
    },
    {
     "data": {
      "image/png": "[encoded data removed]",
      "text/plain": [
       "<Figure size 432x288 with 1 Axes>"
      ]
     },
     "metadata": {},
     "output_type": "display_data"
    }
   ],
   "source": [
    "G2 = nx.relabel_nodes(G1, mapp2)\n",
    "print(G2.nodes())\n",
    "nx.draw(G2)"
   ]
  },
  {
   "cell_type": "code",
   "execution_count": null,
   "metadata": {},
   "outputs": [],
   "source": []
  }
 ],
 "metadata": {
  "extensions": {
   "jupyter_dashboards": {
    "activeView": "grid_default",
    "version": 1,
    "views": {
     "grid_default": {
      "cellMargin": 10,
      "defaultCellHeight": 20,
      "maxColumns": 12,
      "name": "grid",
      "type": "grid"
     },
     "report_default": {
      "name": "report",
      "type": "report"
     }
    }
   }
  },
  "kernelspec": {
   "display_name": "tesi",
   "language": "python",
   "name": "tesi"
  },
  "language_info": {
   "codemirror_mode": {
    "name": "ipython",
    "version": 3
   },
   "file_extension": ".py",
   "mimetype": "text/x-python",
   "name": "python",
   "nbconvert_exporter": "python",
   "pygments_lexer": "ipython3",
   "version": "3.8.3"
  }
 },
 "nbformat": 4,
 "nbformat_minor": 4
}

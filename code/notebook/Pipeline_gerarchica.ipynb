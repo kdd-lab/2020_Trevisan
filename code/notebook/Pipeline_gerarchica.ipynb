{
 "cells": [
  {
   "cell_type": "markdown",
   "metadata": {
    "extensions": {
     "jupyter_dashboards": {
      "version": 1,
      "views": {
       "grid_default": {},
       "report_default": {}
      }
     }
    }
   },
   "source": [
    "### Pipeline gerarchica\n",
    "\n",
    "**PIPELINE - APPROCCIO GERARCHICO**\n",
    "\n",
    "Contributo algoritmico per semplificare il grafo trovando strutture ripetitive-ricorsive al suo interno.\n",
    "\n",
    "Procedura:\n",
    "\n",
    "```\n",
    "Identificare sottografo motif (figure come la prima iterazione di un frattale)\n",
    "Collassare il motif in un solo nodo\n",
    "Aggiornare il peso e il colore degli archi\n",
    "Riapplicare il procedimento al grafo risultante (nuovo livello)\n",
    "```"
   ]
  },
  {
   "cell_type": "code",
   "execution_count": 7,
   "metadata": {
    "extensions": {
     "jupyter_dashboards": {
      "version": 1,
      "views": {
       "grid_default": {},
       "report_default": {}
      }
     }
    }
   },
   "outputs": [],
   "source": [
    "import networkx as nx\n",
    "import itertools\n",
    "from grandiso import find_motifs"
   ]
  },
  {
   "cell_type": "code",
   "execution_count": 8,
   "metadata": {
    "extensions": {
     "jupyter_dashboards": {
      "version": 1,
      "views": {
       "grid_default": {},
       "report_default": {}
      }
     }
    }
   },
   "outputs": [
    {
     "name": "stdout",
     "output_type": "stream",
     "text": [
      "The pycodestyle_magic extension is already loaded. To reload it, use:\n",
      "  %reload_ext pycodestyle_magic\n"
     ]
    }
   ],
   "source": [
    "%load_ext pycodestyle_magic\n",
    "# %%pycodestyle"
   ]
  },
  {
   "cell_type": "markdown",
   "metadata": {
    "extensions": {
     "jupyter_dashboards": {
      "version": 1,
      "views": {
       "grid_default": {},
       "report_default": {}
      }
     }
    }
   },
   "source": [
    "#### Grafo test di base `G`"
   ]
  },
  {
   "cell_type": "code",
   "execution_count": 9,
   "metadata": {
    "extensions": {
     "jupyter_dashboards": {
      "version": 1,
      "views": {
       "grid_default": {},
       "report_default": {}
      }
     }
    }
   },
   "outputs": [],
   "source": [
    "# grafo test di base G\n",
    "\n",
    "G = nx.Graph()\n",
    "G.add_edges_from([(1, 2), (2, 3), (2, 4), (2, 5), (4, 5), (3, 6), (4, 6), (5, 6)])\n",
    "# nx.draw(G)"
   ]
  },
  {
   "cell_type": "markdown",
   "metadata": {
    "extensions": {
     "jupyter_dashboards": {
      "version": 1,
      "views": {
       "grid_default": {},
       "report_default": {}
      }
     }
    }
   },
   "source": [
    "#### Sottografo `motif`"
   ]
  },
  {
   "cell_type": "code",
   "execution_count": 10,
   "metadata": {
    "extensions": {
     "jupyter_dashboards": {
      "version": 1,
      "views": {
       "grid_default": {},
       "report_default": {}
      }
     }
    }
   },
   "outputs": [],
   "source": [
    "# Sottografo motif da trovare nel grafo G: TRIANGOLO\n",
    "\n",
    "m1 = nx.Graph()\n",
    "m1.add_edges_from([(1, 2), (2, 3), (3, 1)])\n",
    "# nx.draw(m1)"
   ]
  },
  {
   "cell_type": "code",
   "execution_count": 5,
   "metadata": {
    "extensions": {
     "jupyter_dashboards": {
      "version": 1,
      "views": {
       "grid_default": {},
       "report_default": {}
      }
     }
    }
   },
   "outputs": [],
   "source": [
    "# Sottografo motif da trovare nel grafo G: QUADRATO\n",
    "\n",
    "m2 = nx.Graph()\n",
    "m2.add_edges_from([(1, 2), (2, 3), (3, 4), (4, 1)])\n",
    "# nx.draw(m2)"
   ]
  },
  {
   "cell_type": "markdown",
   "metadata": {
    "extensions": {
     "jupyter_dashboards": {
      "version": 1,
      "views": {
       "grid_default": {},
       "report_default": {}
      }
     }
    }
   },
   "source": [
    "## TODO: definisci una serie di pattern\n",
    "- singolo nodo\n",
    "- due nodi e un arco\n",
    "- triangolo aperto\n",
    "- quadrato aperto\n",
    "- combinazioni varie\n",
    "- stelle\n",
    "- curve frattali\n",
    "- insieme di julia"
   ]
  },
  {
   "cell_type": "markdown",
   "metadata": {
    "extensions": {
     "jupyter_dashboards": {
      "version": 1,
      "views": {
       "grid_default": {},
       "report_default": {}
      }
     }
    }
   },
   "source": [
    "### Funzione che identifica e collassa il motif in un solo nodo rinominandolo"
   ]
  },
  {
   "cell_type": "code",
   "execution_count": 11,
   "metadata": {},
   "outputs": [
    {
     "name": "stdout",
     "output_type": "stream",
     "text": [
      "[1, 2, 3, 4, 5, 6]\n",
      "[2, 4, 5]\n",
      "[2, 4, 5]\n",
      "[2, 4, 5]\n",
      "{1: (1, 1), 2: (1, 2), 3: (1, 3), 4: (1, 2), 5: (1, 2), 6: (1, 6)}\n",
      "[(1, 1), (1, 2), (1, 3), (1, 6)]\n"
     ]
    },
    {
     "data": {
      "image/png": "[encoded data removed]",
      "text/plain": [
       "<Figure size 432x288 with 1 Axes>"
      ]
     },
     "metadata": {},
     "output_type": "display_data"
    }
   ],
   "source": [
    "def contract_rename(G, motif):\n",
    "    livello = 1\n",
    "    \n",
    "    lista1 = find_motifs(motif, G)\n",
    "    lista2 = [list(d.values()) for d in lista1]\n",
    "    lista3 = list(set(tuple(sorted(s)) for s in lista2))\n",
    "    ris = [list(el) for el in lista3] \n",
    "    nodi = list(G.nodes())\n",
    "    lun = len(nodi)\n",
    "    liv_list = [livello for x in range(lun)]\n",
    "    \n",
    "    lista_temp = nodi[:]\n",
    "    print(lista_temp)\n",
    "    for x in lista_temp:\n",
    "        if x in ris[0]:\n",
    "            print(ris[0])\n",
    "            lista_temp[x-1] = ris[0][0]\n",
    "            \n",
    "    lista_tuple = list(zip(liv_list, lista_temp))\n",
    "    mapping1 = dict(zip(nodi, lista_tuple))\n",
    "    print(mapping1)\n",
    "    MMM = nx.relabel_nodes(G, mapping1)\n",
    "    print(MMM.nodes())\n",
    "    nx.draw(MMM)\n",
    "    return MMM\n",
    "G1 = contract_rename(G, m1)"
   ]
  },
  {
   "cell_type": "markdown",
   "metadata": {
    "extensions": {
     "jupyter_dashboards": {
      "version": 1,
      "views": {
       "grid_default": {},
       "report_default": {}
      }
     }
    }
   },
   "source": [
    "#### Livello 1"
   ]
  },
  {
   "cell_type": "code",
   "execution_count": 7,
   "metadata": {},
   "outputs": [
    {
     "name": "stdout",
     "output_type": "stream",
     "text": [
      "[1, 2, 3, 4, 5, 6]\n",
      "[2, 4, 5]\n",
      "[2, 4, 5]\n",
      "[2, 4, 5]\n",
      "[(1, 1), (1, 2), (1, 3), (1, 6)]\n"
     ]
    },
    {
     "data": {
      "image/png": "[encoded data removed]",
      "text/plain": [
       "<Figure size 432x288 with 1 Axes>"
      ]
     },
     "metadata": {},
     "output_type": "display_data"
    }
   ],
   "source": [
    "# Triangolo, primo livello\n",
    "G1 = contract_rename(G, m1)"
   ]
  },
  {
   "cell_type": "code",
   "execution_count": 21,
   "metadata": {},
   "outputs": [
    {
     "name": "stdout",
     "output_type": "stream",
     "text": [
      "[1, 2, 3, 4, 5, 6]\n",
      "[2, 3, 4, 6]\n",
      "[2, 3, 4, 6]\n",
      "[2, 3, 4, 6]\n",
      "[2, 3, 4, 6]\n",
      "{1: (1, 1), 2: (1, 2), 3: (1, 2), 4: (1, 2), 5: (1, 5), 6: (1, 2)}\n",
      "[(1, 1), (1, 2), (1, 5)]\n"
     ]
    },
    {
     "data": {
      "image/png": "[encoded data removed]",
      "text/plain": [
       "<Figure size 432x288 with 1 Axes>"
      ]
     },
     "metadata": {},
     "output_type": "display_data"
    }
   ],
   "source": [
    "#quadrato\n",
    "\n",
    "GQ = contract_rename(G, m2)"
   ]
  },
  {
   "cell_type": "code",
   "execution_count": 12,
   "metadata": {},
   "outputs": [
    {
     "data": {
      "text/plain": [
       "NodeView(((1, 1), (1, 2), (1, 3), (1, 6)))"
      ]
     },
     "execution_count": 12,
     "metadata": {},
     "output_type": "execute_result"
    }
   ],
   "source": [
    "G1.nodes()"
   ]
  },
  {
   "cell_type": "code",
   "execution_count": 18,
   "metadata": {},
   "outputs": [
    {
     "data": {
      "text/plain": [
       "NodeView(((1, 1), (1, 2), (1, 3), (1, 6)))"
      ]
     },
     "execution_count": 18,
     "metadata": {},
     "output_type": "execute_result"
    }
   ],
   "source": [
    "zz = {1: 1, 2: 2, 3: 3, 6: 6}\n",
    "H = nx.relabel_nodes(G1, zz, copy = True)\n",
    "H.nodes()"
   ]
  },
  {
   "cell_type": "code",
   "execution_count": 20,
   "metadata": {},
   "outputs": [
    {
     "data": {
      "text/plain": [
       "[{1: (1, 2), 3: (1, 3), 2: (1, 6)},\n",
       " {1: (1, 2), 3: (1, 6), 2: (1, 3)},\n",
       " {1: (1, 3), 3: (1, 2), 2: (1, 6)},\n",
       " {1: (1, 3), 3: (1, 6), 2: (1, 2)},\n",
       " {1: (1, 6), 3: (1, 2), 2: (1, 3)},\n",
       " {1: (1, 6), 3: (1, 3), 2: (1, 2)}]"
      ]
     },
     "execution_count": 20,
     "metadata": {},
     "output_type": "execute_result"
    }
   ],
   "source": [
    "lista1 = find_motifs(m1, H)\n",
    "lista1"
   ]
  },
  {
   "cell_type": "code",
   "execution_count": null,
   "metadata": {},
   "outputs": [],
   "source": [
    "G1_temp = "
   ]
  },
  {
   "cell_type": "markdown",
   "metadata": {
    "extensions": {
     "jupyter_dashboards": {
      "version": 1,
      "views": {
       "grid_default": {},
       "report_default": {}
      }
     }
    }
   },
   "source": [
    "#### Livello 2"
   ]
  },
  {
   "cell_type": "code",
   "execution_count": 22,
   "metadata": {
    "extensions": {
     "jupyter_dashboards": {
      "version": 1,
      "views": {
       "grid_default": {},
       "report_default": {}
      }
     }
    },
    "scrolled": true
   },
   "outputs": [
    {
     "name": "stdout",
     "output_type": "stream",
     "text": [
      "[(1, 1), (1, 2), (1, 3), (1, 6)]\n",
      "{(1, 1): (1, (1, 1)), (1, 2): (1, (1, 2)), (1, 3): (1, (1, 3)), (1, 6): (1, (1, 6))}\n",
      "[(1, (1, 1)), (1, (1, 2)), (1, (1, 3)), (1, (1, 6))]\n"
     ]
    },
    {
     "data": {
      "image/png": "[encoded data removed]",
      "text/plain": [
       "<Figure size 432x288 with 1 Axes>"
      ]
     },
     "metadata": {},
     "output_type": "display_data"
    }
   ],
   "source": [
    "def contract_rename2(G, motif):\n",
    "    livello = 1\n",
    "    \n",
    "    lista1 = find_motifs(motif, G)\n",
    "    lista2 = [list(d.values()) for d in lista1]\n",
    "    lista3 = list(set(tuple(sorted(s)) for s in lista2))\n",
    "    ris = [list(el) for el in lista3] \n",
    "    nodi = list(G.nodes())\n",
    "    lun = len(nodi)\n",
    "    liv_list = [livello for x in range(lun)]\n",
    "    \n",
    "    lista_temp = nodi[:]\n",
    "    print(lista_temp)\n",
    "    for x in lista_temp[1]:\n",
    "        if x in ris[0]:\n",
    "            #print(ris[0])\n",
    "            lista_temp[x-1] = ris[0][0]\n",
    "            \n",
    "    lista_tuple = list(zip(liv_list, lista_temp))\n",
    "    mapping1 = dict(zip(nodi, lista_tuple))\n",
    "    print(mapping1)\n",
    "    MMM = nx.relabel_nodes(G, mapping1)\n",
    "    print(MMM.nodes())\n",
    "    nx.draw(MMM)\n",
    "    return MMM\n",
    "\n",
    "\n",
    "G2 = contract_rename2(H, m1)"
   ]
  },
  {
   "cell_type": "code",
   "execution_count": 12,
   "metadata": {},
   "outputs": [
    {
     "name": "stdout",
     "output_type": "stream",
     "text": [
      "[(2, (1, 1)), (2, (1, 2)), (2, (1, 3)), (2, (1, 6))]\n",
      "{(2, (1, 1)): (2, (2, (1, 1))), (2, (1, 2)): (2, (2, (1, 2))), (2, (1, 3)): (2, (2, (1, 3))), (2, (1, 6)): (2, (2, (1, 6)))}\n",
      "[(2, (2, (1, 1))), (2, (2, (1, 2))), (2, (2, (1, 3))), (2, (2, (1, 6)))]\n"
     ]
    },
    {
     "data": {
      "image/png": "[encoded data removed]",
      "text/plain": [
       "<Figure size 432x288 with 1 Axes>"
      ]
     },
     "metadata": {},
     "output_type": "display_data"
    }
   ],
   "source": [
    "G3 = contract_rename2(G2, m1)"
   ]
  }
 ],
 "metadata": {
  "extensions": {
   "jupyter_dashboards": {
    "activeView": "grid_default",
    "version": 1,
    "views": {
     "grid_default": {
      "cellMargin": 10,
      "defaultCellHeight": 20,
      "maxColumns": 12,
      "name": "grid",
      "type": "grid"
     },
     "report_default": {
      "name": "report",
      "type": "report"
     }
    }
   }
  },
  "kernelspec": {
   "display_name": "tesi",
   "language": "python",
   "name": "tesi"
  },
  "language_info": {
   "codemirror_mode": {
    "name": "ipython",
    "version": 3
   },
   "file_extension": ".py",
   "mimetype": "text/x-python",
   "name": "python",
   "nbconvert_exporter": "python",
   "pygments_lexer": "ipython3",
   "version": "3.8.3"
  }
 },
 "nbformat": 4,
 "nbformat_minor": 4
}

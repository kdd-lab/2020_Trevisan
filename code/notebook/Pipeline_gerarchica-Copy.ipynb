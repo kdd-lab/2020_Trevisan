{
 "cells": [
  {
   "cell_type": "markdown",
   "metadata": {
    "extensions": {
     "jupyter_dashboards": {
      "version": 1,
      "views": {
       "grid_default": {},
       "report_default": {}
      }
     }
    }
   },
   "source": [
    "### Pipeline gerarchica\n",
    "\n",
    "**PIPELINE - APPROCCIO GERARCHICO**\n",
    "\n",
    "Contributo algoritmico per semplificare il grafo trovando strutture ripetitive-ricorsive al suo interno.\n",
    "\n",
    "Procedura:\n",
    "\n",
    "```\n",
    "Rinominare nodi del grafo G con il livello corrispondente. Tupla: (livello, nodo)\n",
    "Identificare sottografo motif nel grafo G (definiti nel file pattern.ipynb)\n",
    "Collassare il motif in un solo nodo\n",
    "Memorizzare quali nodi si comprimono nel nuovo nodo\n",
    "(Aggiornare il peso e il colore degli archi)\n",
    "Riapplicare il procedimento al grafo risultante (nuovo livello)\n",
    "```"
   ]
  },
  {
   "cell_type": "code",
   "execution_count": 1,
   "metadata": {
    "extensions": {
     "jupyter_dashboards": {
      "version": 1,
      "views": {
       "grid_default": {},
       "report_default": {}
      }
     }
    }
   },
   "outputs": [],
   "source": [
    "import networkx as nx\n",
    "from grandiso import find_motifs"
   ]
  },
  {
   "cell_type": "code",
   "execution_count": 2,
   "metadata": {
    "extensions": {
     "jupyter_dashboards": {
      "version": 1,
      "views": {
       "grid_default": {},
       "report_default": {}
      }
     }
    }
   },
   "outputs": [],
   "source": [
    "%load_ext pycodestyle_magic\n",
    "# %%pycodestyle"
   ]
  },
  {
   "cell_type": "markdown",
   "metadata": {
    "extensions": {
     "jupyter_dashboards": {
      "version": 1,
      "views": {
       "grid_default": {},
       "report_default": {}
      }
     }
    }
   },
   "source": [
    "#### Grafo test di base `G`"
   ]
  },
  {
   "cell_type": "code",
   "execution_count": 3,
   "metadata": {
    "extensions": {
     "jupyter_dashboards": {
      "version": 1,
      "views": {
       "grid_default": {},
       "report_default": {}
      }
     }
    }
   },
   "outputs": [],
   "source": [
    "# grafo test di base G\n",
    "\n",
    "G0 = nx.Graph()\n",
    "G0.add_edges_from([(1, 2), (2, 3), (2, 4), (2, 5), (4, 5), (3, 6), (4, 6), (5, 6)])\n",
    "# nx.draw(G)"
   ]
  },
  {
   "cell_type": "code",
   "execution_count": 4,
   "metadata": {},
   "outputs": [
    {
     "data": {
      "text/plain": [
       "NodeView(((0, 1), (0, 2), (0, 3), (0, 4), (0, 5), (0, 6)))"
      ]
     },
     "execution_count": 4,
     "metadata": {},
     "output_type": "execute_result"
    }
   ],
   "source": [
    "def rinomina(G):\n",
    "    livello = 0\n",
    "    nodi = list(G.nodes())\n",
    "    lun = len(nodi)\n",
    "    liv_list = [livello for x in range(lun)]\n",
    "    lista_tuple = list(zip(liv_list, nodi))\n",
    "    mapping = dict(zip(nodi, lista_tuple))\n",
    "    G = nx.relabel_nodes(G, mapping)\n",
    "    \n",
    "    return G\n",
    "\n",
    "G0 = rinomina(G0)\n",
    "G0.nodes()"
   ]
  },
  {
   "cell_type": "code",
   "execution_count": 5,
   "metadata": {},
   "outputs": [],
   "source": [
    "# utile per avere una lista di soli nodi: [1, 2, 3, 4, 5, 6]\n",
    "# nodi = list(G_rin.nodes()) \n",
    "# nodi = [x[1] for x in nodi] \n",
    "# nodi"
   ]
  },
  {
   "cell_type": "markdown",
   "metadata": {
    "extensions": {
     "jupyter_dashboards": {
      "version": 1,
      "views": {
       "grid_default": {},
       "report_default": {}
      }
     }
    }
   },
   "source": [
    "#### Sottografo `motif`"
   ]
  },
  {
   "cell_type": "code",
   "execution_count": 6,
   "metadata": {
    "extensions": {
     "jupyter_dashboards": {
      "version": 1,
      "views": {
       "grid_default": {},
       "report_default": {}
      }
     }
    }
   },
   "outputs": [],
   "source": [
    "# Sottografo motif da trovare nel grafo G: TRIANGOLO\n",
    "\n",
    "motif = nx.Graph()\n",
    "motif.add_edges_from([(1, 2), (2, 3), (3, 1)])\n",
    "# nx.draw(motif)"
   ]
  },
  {
   "cell_type": "code",
   "execution_count": 7,
   "metadata": {
    "extensions": {
     "jupyter_dashboards": {
      "version": 1,
      "views": {
       "grid_default": {},
       "report_default": {}
      }
     }
    }
   },
   "outputs": [],
   "source": [
    "# Sottografo motif da trovare nel grafo G: QUADRATO\n",
    "\n",
    "motif1 = nx.Graph()\n",
    "motif1.add_edges_from([(1, 2), (2, 3), (3, 4), (4, 1)])\n",
    "# nx.draw(motif1)"
   ]
  },
  {
   "cell_type": "markdown",
   "metadata": {},
   "source": [
    "***"
   ]
  },
  {
   "cell_type": "markdown",
   "metadata": {},
   "source": [
    "La funzione `identify` prende in input un grafo `G` e un sottografo `motif`, chiama la funzione `find_motifs` della libreria grandiso che sostituisce una lista di dizionari in cui ogni dizionario è un `motif` trovato in `G` e converte l'output in lista di uniche liste."
   ]
  },
  {
   "cell_type": "markdown",
   "metadata": {},
   "source": [
    "***"
   ]
  },
  {
   "cell_type": "markdown",
   "metadata": {},
   "source": [
    "### procedura su grafo rinominato"
   ]
  },
  {
   "cell_type": "code",
   "execution_count": 8,
   "metadata": {},
   "outputs": [],
   "source": [
    "def identify(motif, G):\n",
    "    lista1 = find_motifs(motif, G)\n",
    "    if lista1 == []:\n",
    "        return lista1\n",
    "    else:\n",
    "        lista2 = [list(d.values()) for d in lista1]\n",
    "        lista3 = list(set(tuple(sorted(s)) for s in lista2))\n",
    "        lista4 = sorted(lista3)\n",
    "        risultato = [list(el) for el in lista4] \n",
    "        risultato = [x[1] for x in risultato[0]] # mi interessa solo il primo match\n",
    "        \n",
    "        return [risultato]"
   ]
  },
  {
   "cell_type": "code",
   "execution_count": 9,
   "metadata": {},
   "outputs": [],
   "source": [
    "def comprimi_rinomina(G, livello, motif):\n",
    "    ris = identify(motif, G)\n",
    "    nodi = list(G.nodes())\n",
    "    nodi = [x[1] for x in nodi]\n",
    "    lun = len(nodi)\n",
    "    lista_temp = []\n",
    "    for x in nodi:\n",
    "        if x in ris[0]:\n",
    "            lista_temp.append(ris[0][0])\n",
    "        else:\n",
    "            lista_temp.append(x)\n",
    "    liv_list = [livello for x in range(lun)]\n",
    "    lista_tuple = list(zip(liv_list, lista_temp))\n",
    "    mapping = dict(zip(nodi, lista_tuple))\n",
    "    \n",
    "    return mapping"
   ]
  },
  {
   "cell_type": "code",
   "execution_count": 10,
   "metadata": {},
   "outputs": [],
   "source": [
    "# Rinomino archi del grafo\n",
    "# derinomina\n",
    "def rinomina_archi(G):\n",
    "    archi = list(G.edges())\n",
    "    archi2 = []\n",
    "    for i in archi:\n",
    "        archi2.append((i[0][1], i[1][1]))\n",
    "    G = nx.Graph()\n",
    "    G.add_edges_from(archi2)\n",
    "    \n",
    "    return G"
   ]
  },
  {
   "cell_type": "code",
   "execution_count": null,
   "metadata": {},
   "outputs": [],
   "source": []
  },
  {
   "cell_type": "markdown",
   "metadata": {},
   "source": [
    "# incrementa livello\n",
    "# if iniziale per uscita ris == []"
   ]
  },
  {
   "cell_type": "code",
   "execution_count": 11,
   "metadata": {},
   "outputs": [],
   "source": [
    "def funzione(motif, G):\n",
    "    liv = 1\n",
    "    while liv < 100:\n",
    "        ris = identify(motif, G)\n",
    "        if ris == []:\n",
    "            break\n",
    "        else:\n",
    "            mapping = comprimi_rinomina(G, liv, motif)\n",
    "            G = rinomina_archi(G)\n",
    "            G = nx.relabel_nodes(G, mapping)\n",
    "            # nx.draw(G)\n",
    "            \n",
    "            print(G.nodes())\n",
    "            liv += 1\n",
    "        "
   ]
  },
  {
   "cell_type": "code",
   "execution_count": 12,
   "metadata": {},
   "outputs": [
    {
     "name": "stdout",
     "output_type": "stream",
     "text": [
      "[(1, 1), (1, 2), (1, 3), (1, 6)]\n",
      "[(2, 1), (2, 2)]\n"
     ]
    }
   ],
   "source": [
    "funzione(motif, G0)"
   ]
  },
  {
   "cell_type": "code",
   "execution_count": 13,
   "metadata": {},
   "outputs": [
    {
     "name": "stdout",
     "output_type": "stream",
     "text": [
      "[(1, 1), (1, 2), (1, 5)]\n"
     ]
    }
   ],
   "source": [
    "# run per quadrati\n",
    "funzione(motif1, G0)"
   ]
  },
  {
   "cell_type": "markdown",
   "metadata": {},
   "source": [
    "YEEEEEEEEEE"
   ]
  },
  {
   "cell_type": "code",
   "execution_count": 132,
   "metadata": {},
   "outputs": [
    {
     "data": {
      "text/plain": [
       "[[2, 3, 4, 6]]"
      ]
     },
     "execution_count": 132,
     "metadata": {},
     "output_type": "execute_result"
    }
   ],
   "source": [
    "ris = identify(motif1, G0)\n",
    "ris"
   ]
  },
  {
   "cell_type": "code",
   "execution_count": 133,
   "metadata": {},
   "outputs": [],
   "source": [
    "liv = 0"
   ]
  },
  {
   "cell_type": "code",
   "execution_count": 135,
   "metadata": {},
   "outputs": [
    {
     "data": {
      "text/plain": [
       "{1: (0, 1), 2: (0, 2), 3: (0, 2), 4: (0, 2), 5: (0, 5), 6: (0, 2)}"
      ]
     },
     "execution_count": 135,
     "metadata": {},
     "output_type": "execute_result"
    }
   ],
   "source": [
    "mapp = comprimi_rinomina(G0, liv, motif1)\n",
    "mapp"
   ]
  },
  {
   "cell_type": "code",
   "execution_count": 136,
   "metadata": {},
   "outputs": [
    {
     "data": {
      "image/png": "[encoded data removed]",
      "text/plain": [
       "<Figure size 432x288 with 1 Axes>"
      ]
     },
     "metadata": {},
     "output_type": "display_data"
    }
   ],
   "source": [
    "G0 = rinomina_archi(G0)\n",
    "G0.nodes()\n",
    "G1 = nx.relabel_nodes(G0, mapp)\n",
    "nx.draw(G1)"
   ]
  },
  {
   "cell_type": "code",
   "execution_count": 128,
   "metadata": {},
   "outputs": [
    {
     "data": {
      "image/png": "[encoded data removed]",
      "text/plain": [
       "<Figure size 432x288 with 1 Axes>"
      ]
     },
     "metadata": {},
     "output_type": "display_data"
    }
   ],
   "source": [
    "ris = identify(motif1, G0)\n",
    "liv = 0\n",
    "mapp = comprimi_rinomina(G0, liv, motif1)\n",
    "G0 = rinomina_archi(G0)\n",
    "G0.nodes()\n",
    "G1 = nx.relabel_nodes(G0, mapp)\n",
    "nx.draw(G1)"
   ]
  },
  {
   "cell_type": "code",
   "execution_count": 98,
   "metadata": {},
   "outputs": [
    {
     "name": "stdout",
     "output_type": "stream",
     "text": [
      "[(0, 1), (0, 2), (0, 3), (0, 6)]\n",
      "[(1, 1), (1, 2)]\n"
     ]
    }
   ],
   "source": [
    "liv = 0\n",
    "while liv < 100:\n",
    "    \n",
    "    ris = identify(motif, G0)\n",
    "    if ris == []:\n",
    "        break\n",
    "    else:\n",
    "        mapping = comprimi_rinomina(G0, liv)\n",
    "        G0 = rinomina_archi(G0)\n",
    "        G0 = nx.relabel_nodes(G0, mapping)\n",
    "        #nx.draw(G0)\n",
    "        print(G0.nodes())\n",
    "        liv += 1"
   ]
  },
  {
   "cell_type": "code",
   "execution_count": 53,
   "metadata": {},
   "outputs": [
    {
     "data": {
      "text/plain": [
       "NodeView(((1, 1), (1, 2)))"
      ]
     },
     "execution_count": 53,
     "metadata": {},
     "output_type": "execute_result"
    }
   ],
   "source": [
    "G0.nodes()"
   ]
  },
  {
   "cell_type": "code",
   "execution_count": 11,
   "metadata": {},
   "outputs": [
    {
     "data": {
      "image/png": "[encoded data removed]",
      "text/plain": [
       "<Figure size 432x288 with 1 Axes>"
      ]
     },
     "metadata": {},
     "output_type": "display_data"
    }
   ],
   "source": [
    "ris = identify(motif, G0)\n",
    "liv = 0\n",
    "mapp = comprimi_rinomina(G0, liv)\n",
    "G0 = rinomina_archi(G0)\n",
    "G0.nodes()\n",
    "G1 = nx.relabel_nodes(G0, mapp)\n",
    "nx.draw(G1)"
   ]
  },
  {
   "cell_type": "code",
   "execution_count": 12,
   "metadata": {},
   "outputs": [
    {
     "name": "stdout",
     "output_type": "stream",
     "text": [
      "[(1, 1), (1, 2)]\n"
     ]
    },
    {
     "data": {
      "image/png": "[encoded data removed]",
      "text/plain": [
       "<Figure size 432x288 with 1 Axes>"
      ]
     },
     "metadata": {},
     "output_type": "display_data"
    }
   ],
   "source": [
    "ris = identify(motif, G1)\n",
    "liv = 1\n",
    "mapp = comprimi_rinomina(G1, liv)\n",
    "G1 = rinomina_archi(G1)\n",
    "G1.nodes()\n",
    "G2 = nx.relabel_nodes(G1, mapp)\n",
    "nx.draw(G2)"
   ]
  },
  {
   "cell_type": "code",
   "execution_count": null,
   "metadata": {},
   "outputs": [],
   "source": []
  },
  {
   "cell_type": "markdown",
   "metadata": {},
   "source": [
    "#### MEMORIZZA merge, poter ricostruire e farci indici"
   ]
  },
  {
   "cell_type": "code",
   "execution_count": 14,
   "metadata": {},
   "outputs": [
    {
     "data": {
      "text/plain": [
       "{1: (0, 1), 2: (0, 2), 3: (0, 3), 4: (0, 2), 5: (0, 2), 6: (0, 6)}"
      ]
     },
     "execution_count": 14,
     "metadata": {},
     "output_type": "execute_result"
    }
   ],
   "source": [
    "mapping = {1: (0, 1), 2: (0, 2), 3: (0, 3), 4: (0, 2), 5: (0, 2), 6: (0, 6)}\n",
    "mapping"
   ]
  },
  {
   "cell_type": "code",
   "execution_count": 16,
   "metadata": {},
   "outputs": [
    {
     "data": {
      "text/plain": [
       "[2, 4, 5]"
      ]
     },
     "execution_count": 16,
     "metadata": {},
     "output_type": "execute_result"
    }
   ],
   "source": [
    "[i for i,j in mapping.items() if j == (0, 2)]"
   ]
  },
  {
   "cell_type": "code",
   "execution_count": 148,
   "metadata": {},
   "outputs": [],
   "source": [
    "# Memorizza [(0, 2), (0, 4), (0, 5)] = (1, 2)"
   ]
  },
  {
   "cell_type": "code",
   "execution_count": 26,
   "metadata": {},
   "outputs": [
    {
     "data": {
      "text/plain": [
       "Counter({(0, 1): 1, (0, 2): 3, (0, 3): 1, (0, 6): 1})"
      ]
     },
     "execution_count": 26,
     "metadata": {},
     "output_type": "execute_result"
    }
   ],
   "source": [
    "import collections\n",
    "value_occurrences = collections.Counter(mapping.values())\n",
    "value_occurrences"
   ]
  },
  {
   "cell_type": "code",
   "execution_count": 29,
   "metadata": {},
   "outputs": [
    {
     "data": {
      "text/plain": [
       "{2: (0, 2), 4: (0, 2), 5: (0, 2)}"
      ]
     },
     "execution_count": 29,
     "metadata": {},
     "output_type": "execute_result"
    }
   ],
   "source": [
    "filtered_dict = {key: value for key, value in mapping.items()\n",
    "                 if value_occurrences[value] == 3} # fisso 3 perché graphlet di 3 nodi\n",
    "filtered_dict"
   ]
  },
  {
   "cell_type": "code",
   "execution_count": 51,
   "metadata": {},
   "outputs": [
    {
     "data": {
      "text/plain": [
       "[(0, 2), (0, 4), (0, 5)]"
      ]
     },
     "execution_count": 51,
     "metadata": {},
     "output_type": "execute_result"
    }
   ],
   "source": [
    "new_list = []\n",
    "for i, j in filtered_dict.items():\n",
    "    j = list(j)\n",
    "    j[1] = i\n",
    "    j = tuple(j)\n",
    "    new_list.append(j)\n",
    "new_list"
   ]
  },
  {
   "cell_type": "code",
   "execution_count": 62,
   "metadata": {},
   "outputs": [
    {
     "name": "stdout",
     "output_type": "stream",
     "text": [
      "0\n",
      "2\n"
     ]
    }
   ],
   "source": [
    "a = ()\n",
    "for i in new_list[0]:\n",
    "    print(i)"
   ]
  },
  {
   "cell_type": "code",
   "execution_count": 74,
   "metadata": {},
   "outputs": [
    {
     "data": {
      "text/plain": [
       "(1, 2)"
      ]
     },
     "execution_count": 74,
     "metadata": {},
     "output_type": "execute_result"
    }
   ],
   "source": [
    "a = [i for i in new_list[0]]\n",
    "a[0] = a[0]+1\n",
    "a = tuple(a)\n",
    "a"
   ]
  },
  {
   "cell_type": "code",
   "execution_count": 75,
   "metadata": {},
   "outputs": [
    {
     "data": {
      "text/plain": [
       "{(1, 2): [(0, 2), (0, 4), (0, 5)]}"
      ]
     },
     "execution_count": 75,
     "metadata": {},
     "output_type": "execute_result"
    }
   ],
   "source": [
    "thisdict = {a: new_list}\n",
    "thisdict"
   ]
  },
  {
   "cell_type": "code",
   "execution_count": 25,
   "metadata": {},
   "outputs": [
    {
     "name": "stdout",
     "output_type": "stream",
     "text": [
      "1 (0, 1)\n",
      "2 (0, 2)\n",
      "3 (0, 3)\n",
      "4 (0, 2)\n",
      "5 (0, 2)\n",
      "6 (0, 6)\n"
     ]
    }
   ],
   "source": [
    "for i, j in mapping.items():\n",
    "    if j == ()\n",
    "    print(i, j)"
   ]
  },
  {
   "cell_type": "code",
   "execution_count": 166,
   "metadata": {},
   "outputs": [
    {
     "data": {
      "text/plain": [
       "[[2, 4, 5]]"
      ]
     },
     "execution_count": 166,
     "metadata": {},
     "output_type": "execute_result"
    }
   ],
   "source": [
    "ris = identify(motif, G0)\n",
    "ris"
   ]
  },
  {
   "cell_type": "code",
   "execution_count": 165,
   "metadata": {},
   "outputs": [],
   "source": [
    "liv = 0"
   ]
  },
  {
   "cell_type": "code",
   "execution_count": null,
   "metadata": {},
   "outputs": [],
   "source": [
    "memo = {}\n"
   ]
  },
  {
   "cell_type": "code",
   "execution_count": null,
   "metadata": {},
   "outputs": [],
   "source": []
  },
  {
   "cell_type": "code",
   "execution_count": null,
   "metadata": {},
   "outputs": [],
   "source": []
  },
  {
   "cell_type": "code",
   "execution_count": null,
   "metadata": {},
   "outputs": [],
   "source": []
  },
  {
   "cell_type": "code",
   "execution_count": null,
   "metadata": {},
   "outputs": [],
   "source": []
  }
 ],
 "metadata": {
  "extensions": {
   "jupyter_dashboards": {
    "activeView": "grid_default",
    "version": 1,
    "views": {
     "grid_default": {
      "cellMargin": 10,
      "defaultCellHeight": 20,
      "maxColumns": 12,
      "name": "grid",
      "type": "grid"
     },
     "report_default": {
      "name": "report",
      "type": "report"
     }
    }
   }
  },
  "kernelspec": {
   "display_name": "tesi",
   "language": "python",
   "name": "tesi"
  },
  "language_info": {
   "codemirror_mode": {
    "name": "ipython",
    "version": 3
   },
   "file_extension": ".py",
   "mimetype": "text/x-python",
   "name": "python",
   "nbconvert_exporter": "python",
   "pygments_lexer": "ipython3",
   "version": "3.8.3"
  }
 },
 "nbformat": 4,
 "nbformat_minor": 4
}

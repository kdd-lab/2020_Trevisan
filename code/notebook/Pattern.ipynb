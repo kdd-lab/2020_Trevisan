{
 "cells": [
  {
   "cell_type": "markdown",
   "metadata": {},
   "source": [
    "#### Definizione di una serie di pattern\n",
    "- Combinazioni di archi su 2, 3, 4, 5 nodi fissi\n",
    "\n",
    "Mancano:\n",
    "- Stelle\n",
    "- Triangolo di Sierpinski \n",
    "- Curve frattali\n",
    "- Insieme di Julia\n",
    "- Grafo completo di 7, 8, 9 nodi"
   ]
  },
  {
   "cell_type": "markdown",
   "metadata": {},
   "source": [
    "### TODO: testare la funzione anche con questi motif!"
   ]
  },
  {
   "cell_type": "code",
   "execution_count": 1,
   "metadata": {},
   "outputs": [],
   "source": [
    "import networkx as nx\n",
    "import matplotlib.pyplot as plt"
   ]
  },
  {
   "cell_type": "code",
   "execution_count": 2,
   "metadata": {},
   "outputs": [],
   "source": [
    "# 1 Graphlet di 2 nodi\n",
    "\n",
    "M0 = nx.Graph()\n",
    "M0.add_edges_from([(1, 2)])\n",
    "#nx.draw(M0)"
   ]
  },
  {
   "cell_type": "code",
   "execution_count": 3,
   "metadata": {},
   "outputs": [],
   "source": [
    "# 2 Graphlet di 3 nodi\n",
    "\n",
    "M1 = nx.Graph()\n",
    "M1.add_edges_from([(1, 2), (2, 3)])\n",
    "# nx.draw(M1)\n",
    "\n",
    "\n",
    "M2 = nx.Graph()\n",
    "M2.add_edges_from([(1, 2), (2, 3), (3, 1)])\n",
    "# nx.draw(M2)"
   ]
  },
  {
   "cell_type": "code",
   "execution_count": 4,
   "metadata": {},
   "outputs": [
    {
     "data": {
      "image/png": "[encoded data removed]",
      "text/plain": [
       "<Figure size 432x288 with 2 Axes>"
      ]
     },
     "metadata": {},
     "output_type": "display_data"
    }
   ],
   "source": [
    "graphs = [M1, M2]\n",
    "\n",
    "fig, axes = plt.subplots(nrows=1, ncols=2)\n",
    "ax = axes.flatten()\n",
    "\n",
    "for i in range(2):\n",
    "    nx.draw_networkx(graphs[i], ax=ax[i])\n",
    "    ax[i].set_axis_off()\n",
    "\n",
    "plt.show()"
   ]
  },
  {
   "cell_type": "code",
   "execution_count": 5,
   "metadata": {},
   "outputs": [],
   "source": [
    "# 6 Graphlet di 4 nodi \n",
    "\n",
    "M3 = nx.Graph()\n",
    "M3.add_edges_from([(1, 2), (2, 3), (3, 4)])\n",
    "# nx.draw(M3)\n",
    "\n",
    "\n",
    "M4 = nx.Graph()\n",
    "M4.add_edges_from([(1, 2), (2, 3), (2, 4)])\n",
    "# nx.draw(M4)\n",
    "\n",
    "M5 = nx.Graph()\n",
    "M5.add_edges_from([(1, 2), (2, 3), (3, 4), (4, 1)])\n",
    "# nx.draw(M5)\n",
    "\n",
    "M6 = nx.Graph()\n",
    "M6.add_edges_from([(1, 2), (2, 3), (2, 4), (3, 4)])\n",
    "# nx.draw(M6)\n",
    "\n",
    "M7 = nx.Graph()\n",
    "M7.add_edges_from([(1, 2), (2, 3), (3, 4), (4, 1), (2, 4)])\n",
    "# nx.draw(M7)\n",
    "\n",
    "M8 = nx.Graph()\n",
    "M8.add_edges_from([(1, 2), (2, 3), (2, 4), (1, 3), (3, 4), (1, 4)])\n",
    "# nx.draw(M8)"
   ]
  },
  {
   "cell_type": "code",
   "execution_count": 6,
   "metadata": {},
   "outputs": [],
   "source": [
    "# 21 Graphlet 5 nodi\n",
    "\n",
    "M9 = nx.Graph()\n",
    "M9.add_edges_from([(1, 2), (2, 3), (3, 4), (4, 5)])\n",
    "# nx.draw(M9)\n",
    "\n",
    "M10 = nx.Graph()\n",
    "M10.add_edges_from([(1, 2), (2, 3), (3, 4), (3, 5)])\n",
    "# nx.draw(M10)\n",
    "\n",
    "M11 = nx.Graph()\n",
    "M11.add_edges_from([(1, 2), (2, 3), (2, 4), (2, 5)])\n",
    "# nx.draw(M11)\n",
    "\n",
    "M12 = nx.Graph()\n",
    "M12.add_edges_from([(1, 2), (2, 3), (2, 4), (3, 4), (4, 5)])\n",
    "# nx.draw(M12)\n",
    "\n",
    "M13 = nx.Graph()\n",
    "M13.add_edges_from([(1, 2), (2, 3), (3, 4), (3, 5), (4, 5)])\n",
    "# nx.draw(M13)\n",
    "\n",
    "M14 = nx.Graph()\n",
    "M14.add_edges_from([(1, 2), (2, 3), (3, 4), (2, 4), (2, 5)])\n",
    "# nx.draw(M14)\n",
    "\n",
    "M15 = nx.Graph()\n",
    "M15.add_edges_from([(1, 2), (2, 3), (3, 4), (4, 5), (1, 5)])\n",
    "# nx.draw(M15)\n",
    "\n",
    "M16 = nx.Graph()\n",
    "M16.add_edges_from([(1, 2), (2, 3), (3, 4), (4, 5), (2, 5)])\n",
    "# nx.draw(M16)\n",
    "\n",
    "M17 = nx.Graph()\n",
    "M17.add_edges_from([(1, 2), (2, 3), (3, 4), (4, 5), (2, 4), (2, 5)])\n",
    "# nx.draw(M17)\n",
    "\n",
    "M18 = nx.Graph()\n",
    "M18.add_edges_from([(1, 2), (2, 3), (1, 3), (3, 4), (4, 5), (3, 5)])\n",
    "# nx.draw(M18)\n",
    "\n",
    "M19 = nx.Graph()\n",
    "M19.add_edges_from([(1, 2), (2, 3), (3, 4), (4, 5), (3, 5), (2, 5)])\n",
    "# nx.draw(M19)\n",
    "\n",
    "M20 = nx.Graph()\n",
    "M20.add_edges_from([(1, 2), (2, 3), (3, 4), (1, 4), (1, 5), (3, 5)])\n",
    "#nx.draw(M20)\n",
    "\n",
    "M21 = nx.Graph()\n",
    "M21.add_edges_from([(1, 2), (1, 3), (2, 4), (3, 4), (3, 5), (4, 5)])\n",
    "# nx.draw(M21)\n",
    "\n",
    "M22 = nx.Graph()\n",
    "M22.add_edges_from([(1, 3), (1, 5), (2, 3), (3, 4), (4, 5), (3, 5), (2, 5)])\n",
    "# nx.draw(M22)\n",
    "\n",
    "M23 = nx.Graph()\n",
    "M23.add_edges_from([(1, 2), (2, 3), (3, 4), (2, 4), (2, 5), (3, 5), (4, 5)])\n",
    "# nx.draw(M23)\n",
    "\n",
    "M24 = nx.Graph()\n",
    "M24.add_edges_from([(1, 2), (2, 3), (1, 4), (2, 4), (3, 5), (2, 5), (4, 5)])\n",
    "# nx.draw(M24)\n",
    "\n",
    "M25 = nx.Graph()\n",
    "M25.add_edges_from([(1, 2), (2, 3), (1, 4), (2, 4), (3, 4), (1, 5), (3, 5)])\n",
    "# nx.draw(M25)\n",
    "\n",
    "M26 = nx.Graph()\n",
    "M26.add_edges_from([(1, 2), (1, 3), (1, 5), (2, 3), (3, 4), (4, 5), (3, 5), (2, 5)])\n",
    "# nx.draw(M26)\n",
    "\n",
    "M27 = nx.Graph()\n",
    "M27.add_edges_from([(1, 2), (2, 3), (3, 4), (1, 4), (1, 5), (2, 5), (3, 5), (4, 5)])\n",
    "#nx.draw(M27)\n",
    "\n",
    "M28 = nx.Graph()\n",
    "M28.add_edges_from([(1, 2), (1, 3), (1, 5), (2, 3), (2, 4), (3, 4), (4, 5), (3, 5), (2, 5)])\n",
    "# nx.draw(M28)\n",
    "\n",
    "M29 = nx.Graph()\n",
    "M29.add_edges_from([(1, 2), (2, 3), (3, 4), (4, 5), (1, 5), (1, 3), (1, 4), (2, 5), (2, 4), (3, 5)])\n",
    "# nx.draw(M29)"
   ]
  }
 ],
 "metadata": {
  "kernelspec": {
   "display_name": "tesi",
   "language": "python",
   "name": "tesi"
  },
  "language_info": {
   "codemirror_mode": {
    "name": "ipython",
    "version": 3
   },
   "file_extension": ".py",
   "mimetype": "text/x-python",
   "name": "python",
   "nbconvert_exporter": "python",
   "pygments_lexer": "ipython3",
   "version": "3.8.3"
  }
 },
 "nbformat": 4,
 "nbformat_minor": 4
}
